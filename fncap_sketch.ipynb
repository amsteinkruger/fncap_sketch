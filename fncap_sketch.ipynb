{
 "cells": [
  {
   "cell_type": "markdown",
   "metadata": {},
   "source": [
    "# Processing FIA DB Files for FNCAP"
   ]
  },
  {
   "cell_type": "markdown",
   "metadata": {},
   "source": [
    "## Introduction"
   ]
  },
  {
   "cell_type": "markdown",
   "metadata": {},
   "source": [
    "This document processes FIA data, then sets up initial exploration and visualization for growth modeling.\n",
    "\n",
    "The next step is growth model estimation."
   ]
  },
  {
   "cell_type": "markdown",
   "metadata": {},
   "source": [
    "## 0. Check whether the IDE/.ipynb is working. Get packages."
   ]
  },
  {
   "cell_type": "code",
   "execution_count": null,
   "metadata": {},
   "outputs": [
    {
     "data": {
      "text/plain": [
       "10"
      ]
     },
     "metadata": {},
     "output_type": "display_data"
    }
   ],
   "source": [
    "# Is the IDE working?\n",
    "\n",
    "1 + 1\n",
    "\n",
    "# Instead of learning new things, I'll stick to the Tidyverse. Cheers to the developers.\n",
    "\n",
    "using Tidier\n",
    "\n",
    "# Set display rows.\n",
    "\n",
    "ENV[\"DATAFRAMES_COLUMNS\"] = 10\n",
    "ENV[\"DATAFRAMES_ROWS\"] = 10"
   ]
  },
  {
   "cell_type": "markdown",
   "metadata": {},
   "source": [
    "## 1. Get data."
   ]
  },
  {
   "cell_type": "code",
   "execution_count": 2,
   "metadata": {},
   "outputs": [
    {
     "data": {
      "text/html": [
       "<div><div style = \"float: left;\"><span>749793×197 DataFrame</span></div><div style = \"float: right;\"><span style = \"font-style: italic;\">187 columns and 749783 rows omitted</span></div><div style = \"clear: both;\"></div></div><div class = \"data-frame\" style = \"overflow-x: scroll;\"><table class = \"data-frame\" style = \"margin-bottom: 6px;\"><thead><tr class = \"header\"><th class = \"rowNumber\" style = \"font-weight: bold; text-align: right;\">Row</th><th style = \"text-align: left;\">CN</th><th style = \"text-align: left;\">PLT_CN</th><th style = \"text-align: left;\">PREV_TRE_CN</th><th style = \"text-align: left;\">INVYR</th><th style = \"text-align: left;\">STATECD</th><th style = \"text-align: left;\">UNITCD</th><th style = \"text-align: left;\">COUNTYCD</th><th style = \"text-align: left;\">PLOT</th><th style = \"text-align: left;\">SUBP</th><th style = \"text-align: left;\">TREE</th><th style = \"text-align: right;\">&ctdot;</th></tr><tr class = \"subheader headerLastRow\"><th class = \"rowNumber\" style = \"font-weight: bold; text-align: right;\"></th><th title = \"Int64\" style = \"text-align: left;\">Int64</th><th title = \"Int64\" style = \"text-align: left;\">Int64</th><th title = \"Union{Missing, Int64}\" style = \"text-align: left;\">Int64?</th><th title = \"Int64\" style = \"text-align: left;\">Int64</th><th title = \"Int64\" style = \"text-align: left;\">Int64</th><th title = \"Int64\" style = \"text-align: left;\">Int64</th><th title = \"Int64\" style = \"text-align: left;\">Int64</th><th title = \"Int64\" style = \"text-align: left;\">Int64</th><th title = \"Int64\" style = \"text-align: left;\">Int64</th><th title = \"Int64\" style = \"text-align: left;\">Int64</th><th title = \"Int64\" style = \"text-align: right;\">&ctdot;</th></tr></thead><tbody><tr><td class = \"rowNumber\" style = \"font-weight: bold; text-align: right;\">1</td><td style = \"text-align: right;\">1</td><td style = \"text-align: right;\">64</td><td style = \"font-style: italic; text-align: right;\">missing</td><td style = \"text-align: right;\">1999</td><td style = \"text-align: right;\">41</td><td style = \"text-align: right;\">0</td><td style = \"text-align: right;\">5</td><td style = \"text-align: right;\">1</td><td style = \"text-align: right;\">1</td><td style = \"text-align: right;\">1</td><td style = \"text-align: right;\">&ctdot;</td></tr><tr><td class = \"rowNumber\" style = \"font-weight: bold; text-align: right;\">2</td><td style = \"text-align: right;\">2</td><td style = \"text-align: right;\">64</td><td style = \"font-style: italic; text-align: right;\">missing</td><td style = \"text-align: right;\">1999</td><td style = \"text-align: right;\">41</td><td style = \"text-align: right;\">0</td><td style = \"text-align: right;\">5</td><td style = \"text-align: right;\">1</td><td style = \"text-align: right;\">1</td><td style = \"text-align: right;\">2</td><td style = \"text-align: right;\">&ctdot;</td></tr><tr><td class = \"rowNumber\" style = \"font-weight: bold; text-align: right;\">3</td><td style = \"text-align: right;\">3</td><td style = \"text-align: right;\">64</td><td style = \"font-style: italic; text-align: right;\">missing</td><td style = \"text-align: right;\">1999</td><td style = \"text-align: right;\">41</td><td style = \"text-align: right;\">0</td><td style = \"text-align: right;\">5</td><td style = \"text-align: right;\">1</td><td style = \"text-align: right;\">1</td><td style = \"text-align: right;\">3</td><td style = \"text-align: right;\">&ctdot;</td></tr><tr><td class = \"rowNumber\" style = \"font-weight: bold; text-align: right;\">4</td><td style = \"text-align: right;\">5</td><td style = \"text-align: right;\">64</td><td style = \"font-style: italic; text-align: right;\">missing</td><td style = \"text-align: right;\">1999</td><td style = \"text-align: right;\">41</td><td style = \"text-align: right;\">0</td><td style = \"text-align: right;\">5</td><td style = \"text-align: right;\">1</td><td style = \"text-align: right;\">1</td><td style = \"text-align: right;\">5</td><td style = \"text-align: right;\">&ctdot;</td></tr><tr><td class = \"rowNumber\" style = \"font-weight: bold; text-align: right;\">5</td><td style = \"text-align: right;\">6</td><td style = \"text-align: right;\">64</td><td style = \"font-style: italic; text-align: right;\">missing</td><td style = \"text-align: right;\">1999</td><td style = \"text-align: right;\">41</td><td style = \"text-align: right;\">0</td><td style = \"text-align: right;\">5</td><td style = \"text-align: right;\">1</td><td style = \"text-align: right;\">1</td><td style = \"text-align: right;\">6</td><td style = \"text-align: right;\">&ctdot;</td></tr><tr><td style = \"text-align: right;\">&vellip;</td><td style = \"text-align: right;\">&vellip;</td><td style = \"text-align: right;\">&vellip;</td><td style = \"text-align: right;\">&vellip;</td><td style = \"text-align: right;\">&vellip;</td><td style = \"text-align: right;\">&vellip;</td><td style = \"text-align: right;\">&vellip;</td><td style = \"text-align: right;\">&vellip;</td><td style = \"text-align: right;\">&vellip;</td><td style = \"text-align: right;\">&vellip;</td><td style = \"text-align: right;\">&vellip;</td><td style = \"text-align: right;\">&dtdot;</td></tr><tr><td class = \"rowNumber\" style = \"font-weight: bold; text-align: right;\">749789</td><td style = \"text-align: right;\">1127606689290487</td><td style = \"text-align: right;\">786780305290487</td><td style = \"font-style: italic; text-align: right;\">missing</td><td style = \"text-align: right;\">2021</td><td style = \"text-align: right;\">41</td><td style = \"text-align: right;\">4</td><td style = \"text-align: right;\">63</td><td style = \"text-align: right;\">99829</td><td style = \"text-align: right;\">4</td><td style = \"text-align: right;\">146</td><td style = \"text-align: right;\">&ctdot;</td></tr><tr><td class = \"rowNumber\" style = \"font-weight: bold; text-align: right;\">749790</td><td style = \"text-align: right;\">1127606690290487</td><td style = \"text-align: right;\">786780305290487</td><td style = \"font-style: italic; text-align: right;\">missing</td><td style = \"text-align: right;\">2021</td><td style = \"text-align: right;\">41</td><td style = \"text-align: right;\">4</td><td style = \"text-align: right;\">63</td><td style = \"text-align: right;\">99829</td><td style = \"text-align: right;\">4</td><td style = \"text-align: right;\">147</td><td style = \"text-align: right;\">&ctdot;</td></tr><tr><td class = \"rowNumber\" style = \"font-weight: bold; text-align: right;\">749791</td><td style = \"text-align: right;\">1127606691290487</td><td style = \"text-align: right;\">786780305290487</td><td style = \"font-style: italic; text-align: right;\">missing</td><td style = \"text-align: right;\">2021</td><td style = \"text-align: right;\">41</td><td style = \"text-align: right;\">4</td><td style = \"text-align: right;\">63</td><td style = \"text-align: right;\">99829</td><td style = \"text-align: right;\">4</td><td style = \"text-align: right;\">148</td><td style = \"text-align: right;\">&ctdot;</td></tr><tr><td class = \"rowNumber\" style = \"font-weight: bold; text-align: right;\">749792</td><td style = \"text-align: right;\">1127606693290487</td><td style = \"text-align: right;\">786780305290487</td><td style = \"font-style: italic; text-align: right;\">missing</td><td style = \"text-align: right;\">2021</td><td style = \"text-align: right;\">41</td><td style = \"text-align: right;\">4</td><td style = \"text-align: right;\">63</td><td style = \"text-align: right;\">99829</td><td style = \"text-align: right;\">4</td><td style = \"text-align: right;\">150</td><td style = \"text-align: right;\">&ctdot;</td></tr><tr><td class = \"rowNumber\" style = \"font-weight: bold; text-align: right;\">749793</td><td style = \"text-align: right;\">1127606692290487</td><td style = \"text-align: right;\">786780305290487</td><td style = \"font-style: italic; text-align: right;\">missing</td><td style = \"text-align: right;\">2021</td><td style = \"text-align: right;\">41</td><td style = \"text-align: right;\">4</td><td style = \"text-align: right;\">63</td><td style = \"text-align: right;\">99829</td><td style = \"text-align: right;\">4</td><td style = \"text-align: right;\">149</td><td style = \"text-align: right;\">&ctdot;</td></tr></tbody></table></div>"
      ],
      "text/latex": [
       "\\begin{tabular}{r|ccccccccccc}\n",
       "\t& CN & PLT\\_CN & PREV\\_TRE\\_CN & INVYR & STATECD & UNITCD & COUNTYCD & PLOT & SUBP & TREE & \\\\\n",
       "\t\\hline\n",
       "\t& Int64 & Int64 & Int64? & Int64 & Int64 & Int64 & Int64 & Int64 & Int64 & Int64 & \\\\\n",
       "\t\\hline\n",
       "\t1 & 1 & 64 & \\emph{missing} & 1999 & 41 & 0 & 5 & 1 & 1 & 1 & $\\dots$ \\\\\n",
       "\t2 & 2 & 64 & \\emph{missing} & 1999 & 41 & 0 & 5 & 1 & 1 & 2 & $\\dots$ \\\\\n",
       "\t3 & 3 & 64 & \\emph{missing} & 1999 & 41 & 0 & 5 & 1 & 1 & 3 & $\\dots$ \\\\\n",
       "\t4 & 5 & 64 & \\emph{missing} & 1999 & 41 & 0 & 5 & 1 & 1 & 5 & $\\dots$ \\\\\n",
       "\t5 & 6 & 64 & \\emph{missing} & 1999 & 41 & 0 & 5 & 1 & 1 & 6 & $\\dots$ \\\\\n",
       "\t6 & 7 & 64 & \\emph{missing} & 1999 & 41 & 0 & 5 & 1 & 1 & 7 & $\\dots$ \\\\\n",
       "\t7 & 8 & 64 & \\emph{missing} & 1999 & 41 & 0 & 5 & 1 & 1 & 8 & $\\dots$ \\\\\n",
       "\t8 & 9 & 64 & \\emph{missing} & 1999 & 41 & 0 & 5 & 1 & 1 & 9 & $\\dots$ \\\\\n",
       "\t9 & 10 & 64 & \\emph{missing} & 1999 & 41 & 0 & 5 & 1 & 1 & 10 & $\\dots$ \\\\\n",
       "\t10 & 19 & 64 & \\emph{missing} & 1999 & 41 & 0 & 5 & 1 & 1 & 19 & $\\dots$ \\\\\n",
       "\t11 & 4 & 64 & \\emph{missing} & 1999 & 41 & 0 & 5 & 1 & 2 & 4 & $\\dots$ \\\\\n",
       "\t12 & 11 & 64 & \\emph{missing} & 1999 & 41 & 0 & 5 & 1 & 2 & 11 & $\\dots$ \\\\\n",
       "\t13 & 12 & 64 & \\emph{missing} & 1999 & 41 & 0 & 5 & 1 & 2 & 12 & $\\dots$ \\\\\n",
       "\t14 & 13 & 64 & \\emph{missing} & 1999 & 41 & 0 & 5 & 1 & 3 & 13 & $\\dots$ \\\\\n",
       "\t15 & 14 & 64 & \\emph{missing} & 1999 & 41 & 0 & 5 & 1 & 3 & 14 & $\\dots$ \\\\\n",
       "\t16 & 15 & 64 & \\emph{missing} & 1999 & 41 & 0 & 5 & 1 & 3 & 15 & $\\dots$ \\\\\n",
       "\t17 & 16 & 64 & \\emph{missing} & 1999 & 41 & 0 & 5 & 1 & 3 & 16 & $\\dots$ \\\\\n",
       "\t18 & 17 & 64 & \\emph{missing} & 1999 & 41 & 0 & 5 & 1 & 3 & 17 & $\\dots$ \\\\\n",
       "\t19 & 18 & 64 & \\emph{missing} & 1999 & 41 & 0 & 5 & 1 & 3 & 18 & $\\dots$ \\\\\n",
       "\t20 & 20 & 64 & \\emph{missing} & 1999 & 41 & 0 & 5 & 1 & 3 & 20 & $\\dots$ \\\\\n",
       "\t21 & 21 & 64 & \\emph{missing} & 1999 & 41 & 0 & 5 & 1 & 5 & 21 & $\\dots$ \\\\\n",
       "\t22 & 22 & 64 & \\emph{missing} & 1999 & 41 & 0 & 5 & 1 & 5 & 22 & $\\dots$ \\\\\n",
       "\t23 & 23 & 64 & \\emph{missing} & 1999 & 41 & 0 & 5 & 1 & 5 & 23 & $\\dots$ \\\\\n",
       "\t24 & 24 & 64 & \\emph{missing} & 1999 & 41 & 0 & 5 & 1 & 5 & 24 & $\\dots$ \\\\\n",
       "\t$\\dots$ & $\\dots$ & $\\dots$ & $\\dots$ & $\\dots$ & $\\dots$ & $\\dots$ & $\\dots$ & $\\dots$ & $\\dots$ & $\\dots$ &  \\\\\n",
       "\\end{tabular}\n"
      ],
      "text/plain": [
       "\u001b[1m749793×197 DataFrame\u001b[0m\n",
       "\u001b[1m    Row \u001b[0m│\u001b[1m CN               \u001b[0m\u001b[1m PLT_CN          \u001b[0m\u001b[1m PREV_TRE_CN \u001b[0m\u001b[1m INVYR \u001b[0m\u001b[1m STATECD \u001b[0m\u001b[1m UNIT\u001b[0m ⋯\n",
       "        │\u001b[90m Int64            \u001b[0m\u001b[90m Int64           \u001b[0m\u001b[90m Int64?      \u001b[0m\u001b[90m Int64 \u001b[0m\u001b[90m Int64   \u001b[0m\u001b[90m Int6\u001b[0m ⋯\n",
       "────────┼───────────────────────────────────────────────────────────────────────\n",
       "      1 │                1               64 \u001b[90m     missing \u001b[0m  1999       41       ⋯\n",
       "      2 │                2               64 \u001b[90m     missing \u001b[0m  1999       41\n",
       "      3 │                3               64 \u001b[90m     missing \u001b[0m  1999       41\n",
       "      4 │                5               64 \u001b[90m     missing \u001b[0m  1999       41\n",
       "      5 │                6               64 \u001b[90m     missing \u001b[0m  1999       41       ⋯\n",
       "      6 │                7               64 \u001b[90m     missing \u001b[0m  1999       41\n",
       "      7 │                8               64 \u001b[90m     missing \u001b[0m  1999       41\n",
       "      8 │                9               64 \u001b[90m     missing \u001b[0m  1999       41\n",
       "   ⋮    │        ⋮                 ⋮              ⋮         ⋮       ⋮       ⋮  ⋱\n",
       " 749787 │ 1127606687290487  786780305290487 \u001b[90m     missing \u001b[0m  2021       41       ⋯\n",
       " 749788 │ 1127606688290487  786780305290487 \u001b[90m     missing \u001b[0m  2021       41\n",
       " 749789 │ 1127606689290487  786780305290487 \u001b[90m     missing \u001b[0m  2021       41\n",
       " 749790 │ 1127606690290487  786780305290487 \u001b[90m     missing \u001b[0m  2021       41\n",
       " 749791 │ 1127606691290487  786780305290487 \u001b[90m     missing \u001b[0m  2021       41       ⋯\n",
       " 749792 │ 1127606693290487  786780305290487 \u001b[90m     missing \u001b[0m  2021       41\n",
       " 749793 │ 1127606692290487  786780305290487 \u001b[90m     missing \u001b[0m  2021       41\n",
       "\u001b[36m                                             192 columns and 749778 rows omitted\u001b[0m"
      ]
     },
     "metadata": {},
     "output_type": "display_data"
    }
   ],
   "source": [
    "dat_or_plot = read_csv(\"data/OR_PLOT.csv\")\n",
    "dat_or_cond = read_csv(\"data/OR_COND.csv\")\n",
    "dat_or_tree = read_csv(\"data/OR_TREE.csv\")"
   ]
  },
  {
   "cell_type": "markdown",
   "metadata": {},
   "source": [
    "## 2. Filter plots to those (a) in western Oregon (b) with at least one pair of observations."
   ]
  },
  {
   "cell_type": "code",
   "execution_count": 3,
   "metadata": {},
   "outputs": [
    {
     "data": {
      "text/html": [
       "<div><div style = \"float: left;\"><span>17124×9 DataFrame</span></div><div style = \"float: right;\"><span style = \"font-style: italic;\">17114 rows omitted</span></div><div style = \"clear: both;\"></div></div><div class = \"data-frame\" style = \"overflow-x: scroll;\"><table class = \"data-frame\" style = \"margin-bottom: 6px;\"><thead><tr class = \"header\"><th class = \"rowNumber\" style = \"font-weight: bold; text-align: right;\">Row</th><th style = \"text-align: left;\">STATECD</th><th style = \"text-align: left;\">UNITCD</th><th style = \"text-align: left;\">COUNTYCD</th><th style = \"text-align: left;\">PLOT</th><th style = \"text-align: left;\">MATCH_CN</th><th style = \"text-align: left;\">INVYR</th><th style = \"text-align: left;\">LON</th><th style = \"text-align: left;\">LAT</th><th style = \"text-align: left;\">join</th></tr><tr class = \"subheader headerLastRow\"><th class = \"rowNumber\" style = \"font-weight: bold; text-align: right;\"></th><th title = \"Int64\" style = \"text-align: left;\">Int64</th><th title = \"Int64\" style = \"text-align: left;\">Int64</th><th title = \"Int64\" style = \"text-align: left;\">Int64</th><th title = \"Int64\" style = \"text-align: left;\">Int64</th><th title = \"Int64\" style = \"text-align: left;\">Int64</th><th title = \"Int64\" style = \"text-align: left;\">Int64</th><th title = \"Float64\" style = \"text-align: left;\">Float64</th><th title = \"Float64\" style = \"text-align: left;\">Float64</th><th title = \"Int64\" style = \"text-align: left;\">Int64</th></tr></thead><tbody><tr><td class = \"rowNumber\" style = \"font-weight: bold; text-align: right;\">1</td><td style = \"text-align: right;\">41</td><td style = \"text-align: right;\">3</td><td style = \"text-align: right;\">31</td><td style = \"text-align: right;\">86413</td><td style = \"text-align: right;\">23884220010900</td><td style = \"text-align: right;\">2001</td><td style = \"text-align: right;\">-120.939</td><td style = \"text-align: right;\">44.5214</td><td style = \"text-align: right;\">1</td></tr><tr><td class = \"rowNumber\" style = \"font-weight: bold; text-align: right;\">2</td><td style = \"text-align: right;\">41</td><td style = \"text-align: right;\">0</td><td style = \"text-align: right;\">7</td><td style = \"text-align: right;\">65429</td><td style = \"text-align: right;\">23905912010900</td><td style = \"text-align: right;\">2001</td><td style = \"text-align: right;\">-123.455</td><td style = \"text-align: right;\">45.8468</td><td style = \"text-align: right;\">1</td></tr><tr><td class = \"rowNumber\" style = \"font-weight: bold; text-align: right;\">3</td><td style = \"text-align: right;\">41</td><td style = \"text-align: right;\">3</td><td style = \"text-align: right;\">21</td><td style = \"text-align: right;\">59734</td><td style = \"text-align: right;\">23930445010900</td><td style = \"text-align: right;\">2001</td><td style = \"text-align: right;\">-120.262</td><td style = \"text-align: right;\">45.112</td><td style = \"text-align: right;\">1</td></tr><tr><td class = \"rowNumber\" style = \"font-weight: bold; text-align: right;\">4</td><td style = \"text-align: right;\">41</td><td style = \"text-align: right;\">0</td><td style = \"text-align: right;\">57</td><td style = \"text-align: right;\">64502</td><td style = \"text-align: right;\">23850638010900</td><td style = \"text-align: right;\">2001</td><td style = \"text-align: right;\">-123.944</td><td style = \"text-align: right;\">45.6829</td><td style = \"text-align: right;\">1</td></tr><tr><td class = \"rowNumber\" style = \"font-weight: bold; text-align: right;\">5</td><td style = \"text-align: right;\">41</td><td style = \"text-align: right;\">3</td><td style = \"text-align: right;\">55</td><td style = \"text-align: right;\">58461</td><td style = \"text-align: right;\">23848826010900</td><td style = \"text-align: right;\">2001</td><td style = \"text-align: right;\">-120.904</td><td style = \"text-align: right;\">45.3065</td><td style = \"text-align: right;\">1</td></tr><tr><td style = \"text-align: right;\">&vellip;</td><td style = \"text-align: right;\">&vellip;</td><td style = \"text-align: right;\">&vellip;</td><td style = \"text-align: right;\">&vellip;</td><td style = \"text-align: right;\">&vellip;</td><td style = \"text-align: right;\">&vellip;</td><td style = \"text-align: right;\">&vellip;</td><td style = \"text-align: right;\">&vellip;</td><td style = \"text-align: right;\">&vellip;</td><td style = \"text-align: right;\">&vellip;</td></tr><tr><td class = \"rowNumber\" style = \"font-weight: bold; text-align: right;\">17120</td><td style = \"text-align: right;\">41</td><td style = \"text-align: right;\">0</td><td style = \"text-align: right;\">5</td><td style = \"text-align: right;\">96682</td><td style = \"text-align: right;\">193209178020004</td><td style = \"text-align: right;\">2017</td><td style = \"text-align: right;\">-122.159</td><td style = \"text-align: right;\">45.0668</td><td style = \"text-align: right;\">1</td></tr><tr><td class = \"rowNumber\" style = \"font-weight: bold; text-align: right;\">17121</td><td style = \"text-align: right;\">41</td><td style = \"text-align: right;\">2</td><td style = \"text-align: right;\">19</td><td style = \"text-align: right;\">91895</td><td style = \"text-align: right;\">193208964020004</td><td style = \"text-align: right;\">2017</td><td style = \"text-align: right;\">-123.815</td><td style = \"text-align: right;\">43.8799</td><td style = \"text-align: right;\">1</td></tr><tr><td class = \"rowNumber\" style = \"font-weight: bold; text-align: right;\">17122</td><td style = \"text-align: right;\">41</td><td style = \"text-align: right;\">1</td><td style = \"text-align: right;\">39</td><td style = \"text-align: right;\">80933</td><td style = \"text-align: right;\">193208965020004</td><td style = \"text-align: right;\">2017</td><td style = \"text-align: right;\">-122.044</td><td style = \"text-align: right;\">44.1549</td><td style = \"text-align: right;\">1</td></tr><tr><td class = \"rowNumber\" style = \"font-weight: bold; text-align: right;\">17123</td><td style = \"text-align: right;\">41</td><td style = \"text-align: right;\">3</td><td style = \"text-align: right;\">31</td><td style = \"text-align: right;\">92368</td><td style = \"text-align: right;\">22825965010497</td><td style = \"text-align: right;\">2017</td><td style = \"text-align: right;\">-121.045</td><td style = \"text-align: right;\">44.4317</td><td style = \"text-align: right;\">1</td></tr><tr><td class = \"rowNumber\" style = \"font-weight: bold; text-align: right;\">17124</td><td style = \"text-align: right;\">41</td><td style = \"text-align: right;\">3</td><td style = \"text-align: right;\">17</td><td style = \"text-align: right;\">55183</td><td style = \"text-align: right;\">22828406010497</td><td style = \"text-align: right;\">2017</td><td style = \"text-align: right;\">-121.679</td><td style = \"text-align: right;\">43.752</td><td style = \"text-align: right;\">1</td></tr></tbody></table></div>"
      ],
      "text/latex": [
       "\\begin{tabular}{r|ccccccccc}\n",
       "\t& STATECD & UNITCD & COUNTYCD & PLOT & MATCH\\_CN & INVYR & LON & LAT & join\\\\\n",
       "\t\\hline\n",
       "\t& Int64 & Int64 & Int64 & Int64 & Int64 & Int64 & Float64 & Float64 & Int64\\\\\n",
       "\t\\hline\n",
       "\t1 & 41 & 3 & 31 & 86413 & 23884220010900 & 2001 & -120.939 & 44.5214 & 1 \\\\\n",
       "\t2 & 41 & 0 & 7 & 65429 & 23905912010900 & 2001 & -123.455 & 45.8468 & 1 \\\\\n",
       "\t3 & 41 & 3 & 21 & 59734 & 23930445010900 & 2001 & -120.262 & 45.112 & 1 \\\\\n",
       "\t4 & 41 & 0 & 57 & 64502 & 23850638010900 & 2001 & -123.944 & 45.6829 & 1 \\\\\n",
       "\t5 & 41 & 3 & 55 & 58461 & 23848826010900 & 2001 & -120.904 & 45.3065 & 1 \\\\\n",
       "\t6 & 41 & 3 & 21 & 63852 & 23930565010900 & 2001 & -120.127 & 45.3568 & 1 \\\\\n",
       "\t7 & 41 & 1 & 3 & 71413 & 23902141010900 & 2001 & -123.575 & 44.7097 & 1 \\\\\n",
       "\t8 & 41 & 2 & 19 & 76180 & 23922091010900 & 2001 & -123.053 & 42.8191 & 1 \\\\\n",
       "\t9 & 41 & 2 & 11 & 50978 & 26367525010900 & 2001 & -124.472 & 43.1757 & 1 \\\\\n",
       "\t10 & 41 & 3 & 65 & 88941 & 23826930010900 & 2001 & -120.994 & 45.5706 & 1 \\\\\n",
       "\t11 & 41 & 2 & 15 & 50998 & 26367561010900 & 2001 & -124.494 & 42.4772 & 1 \\\\\n",
       "\t12 & 41 & 2 & 29 & 96526 & 23879391010900 & 2001 & -122.658 & 42.3519 & 1 \\\\\n",
       "\t13 & 41 & 2 & 29 & 62571 & 23878649010900 & 2001 & -122.977 & 42.1934 & 1 \\\\\n",
       "\t14 & 41 & 1 & 41 & 50895 & 26367651010900 & 2001 & -124.09 & 44.6856 & 1 \\\\\n",
       "\t15 & 41 & 3 & 37 & 58424 & 23861246010900 & 2001 & -120.397 & 43.483 & 1 \\\\\n",
       "\t16 & 41 & 3 & 37 & 66153 & 23861538010900 & 2001 & -120.197 & 43.5331 & 1 \\\\\n",
       "\t17 & 41 & 2 & 29 & 86376 & 23878985010900 & 2001 & -122.791 & 42.3009 & 1 \\\\\n",
       "\t18 & 41 & 1 & 43 & 65233 & 23872899010900 & 2001 & -123.242 & 44.5631 & 1 \\\\\n",
       "\t19 & 41 & 3 & 37 & 77989 & 23858562010900 & 2001 & -120.419 & 42.6978 & 1 \\\\\n",
       "\t20 & 41 & 3 & 37 & 75571 & 23858632010900 & 2001 & -120.081 & 42.7436 & 1 \\\\\n",
       "\t21 & 41 & 0 & 67 & 95934 & 23827302010900 & 2001 & -122.89 & 45.4523 & 1 \\\\\n",
       "\t22 & 41 & 0 & 67 & 67155 & 23827558010900 & 2001 & -123.252 & 45.6 & 1 \\\\\n",
       "\t23 & 41 & 3 & 35 & 57066 & 23888137010900 & 2001 & -121.351 & 42.1493 & 1 \\\\\n",
       "\t24 & 41 & 3 & 35 & 70911 & 23895570010900 & 2001 & -122.025 & 42.198 & 1 \\\\\n",
       "\t$\\dots$ & $\\dots$ & $\\dots$ & $\\dots$ & $\\dots$ & $\\dots$ & $\\dots$ & $\\dots$ & $\\dots$ & $\\dots$ \\\\\n",
       "\\end{tabular}\n"
      ],
      "text/plain": [
       "\u001b[1m17124×9 DataFrame\u001b[0m\n",
       "\u001b[1m   Row \u001b[0m│\u001b[1m STATECD \u001b[0m\u001b[1m UNITCD \u001b[0m\u001b[1m COUNTYCD \u001b[0m\u001b[1m PLOT  \u001b[0m\u001b[1m MATCH_CN        \u001b[0m\u001b[1m INVYR \u001b[0m\u001b[1m LON      \u001b[0m\u001b[1m L\u001b[0m ⋯\n",
       "       │\u001b[90m Int64   \u001b[0m\u001b[90m Int64  \u001b[0m\u001b[90m Int64    \u001b[0m\u001b[90m Int64 \u001b[0m\u001b[90m Int64           \u001b[0m\u001b[90m Int64 \u001b[0m\u001b[90m Float64  \u001b[0m\u001b[90m F\u001b[0m ⋯\n",
       "───────┼────────────────────────────────────────────────────────────────────────\n",
       "     1 │      41       3        31  86413   23884220010900   2001  -120.939  4 ⋯\n",
       "     2 │      41       0         7  65429   23905912010900   2001  -123.455  4\n",
       "     3 │      41       3        21  59734   23930445010900   2001  -120.262  4\n",
       "     4 │      41       0        57  64502   23850638010900   2001  -123.944  4\n",
       "     5 │      41       3        55  58461   23848826010900   2001  -120.904  4 ⋯\n",
       "     6 │      41       3        21  63852   23930565010900   2001  -120.127  4\n",
       "     7 │      41       1         3  71413   23902141010900   2001  -123.575  4\n",
       "     8 │      41       2        19  76180   23922091010900   2001  -123.053  4\n",
       "   ⋮   │    ⋮       ⋮        ⋮        ⋮           ⋮           ⋮       ⋮        ⋱\n",
       " 17118 │      41       0        47  68840  193209106020004   2017  -122.302  4 ⋯\n",
       " 17119 │      41       0        47  64275  193209128020004   2017  -122.138  4\n",
       " 17120 │      41       0         5  96682  193209178020004   2017  -122.159  4\n",
       " 17121 │      41       2        19  91895  193208964020004   2017  -123.815  4\n",
       " 17122 │      41       1        39  80933  193208965020004   2017  -122.044  4 ⋯\n",
       " 17123 │      41       3        31  92368   22825965010497   2017  -121.045  4\n",
       " 17124 │      41       3        17  55183   22828406010497   2017  -121.679  4\n",
       "\u001b[36m                                                2 columns and 17109 rows omitted\u001b[0m"
      ]
     },
     "metadata": {},
     "output_type": "display_data"
    }
   ],
   "source": [
    "dat_or_plot_less = @chain dat_or_plot begin\n",
    "    @filter(LON < -120)\n",
    "    @mutate(MATCH_CN = if_else(ismissing(PREV_PLT_CN), CN, PREV_PLT_CN))\n",
    "    @group_by(MATCH_CN)\n",
    "    @filter(n() > 1)\n",
    "    @ungroup\n",
    "    @select(STATECD, UNITCD, COUNTYCD, PLOT, MATCH_CN, INVYR, LON, LAT)\n",
    "    @mutate(join = 1)\n",
    "end"
   ]
  },
  {
   "cell_type": "markdown",
   "metadata": {},
   "source": [
    "## 3. Filter conditions to private Douglas fir."
   ]
  },
  {
   "cell_type": "code",
   "execution_count": 4,
   "metadata": {},
   "outputs": [
    {
     "data": {
      "text/html": [
       "<div><div style = \"float: left;\"><span>2880×7 DataFrame</span></div><div style = \"float: right;\"><span style = \"font-style: italic;\">2870 rows omitted</span></div><div style = \"clear: both;\"></div></div><div class = \"data-frame\" style = \"overflow-x: scroll;\"><table class = \"data-frame\" style = \"margin-bottom: 6px;\"><thead><tr class = \"header\"><th class = \"rowNumber\" style = \"font-weight: bold; text-align: right;\">Row</th><th style = \"text-align: left;\">STATECD</th><th style = \"text-align: left;\">UNITCD</th><th style = \"text-align: left;\">COUNTYCD</th><th style = \"text-align: left;\">PLOT</th><th style = \"text-align: left;\">CONDID</th><th style = \"text-align: left;\">CONDPROP_UNADJ</th><th style = \"text-align: left;\">INVYR</th></tr><tr class = \"subheader headerLastRow\"><th class = \"rowNumber\" style = \"font-weight: bold; text-align: right;\"></th><th title = \"Int64\" style = \"text-align: left;\">Int64</th><th title = \"Int64\" style = \"text-align: left;\">Int64</th><th title = \"Int64\" style = \"text-align: left;\">Int64</th><th title = \"Int64\" style = \"text-align: left;\">Int64</th><th title = \"Int64\" style = \"text-align: left;\">Int64</th><th title = \"Float64\" style = \"text-align: left;\">Float64</th><th title = \"Int64\" style = \"text-align: left;\">Int64</th></tr></thead><tbody><tr><td class = \"rowNumber\" style = \"font-weight: bold; text-align: right;\">1</td><td style = \"text-align: right;\">41</td><td style = \"text-align: right;\">4</td><td style = \"text-align: right;\">63</td><td style = \"text-align: right;\">97331</td><td style = \"text-align: right;\">1</td><td style = \"text-align: right;\">0.801911</td><td style = \"text-align: right;\">2001</td></tr><tr><td class = \"rowNumber\" style = \"font-weight: bold; text-align: right;\">2</td><td style = \"text-align: right;\">41</td><td style = \"text-align: right;\">4</td><td style = \"text-align: right;\">63</td><td style = \"text-align: right;\">53628</td><td style = \"text-align: right;\">1</td><td style = \"text-align: right;\">1.0</td><td style = \"text-align: right;\">2001</td></tr><tr><td class = \"rowNumber\" style = \"font-weight: bold; text-align: right;\">3</td><td style = \"text-align: right;\">41</td><td style = \"text-align: right;\">2</td><td style = \"text-align: right;\">15</td><td style = \"text-align: right;\">53474</td><td style = \"text-align: right;\">1</td><td style = \"text-align: right;\">0.615244</td><td style = \"text-align: right;\">2001</td></tr><tr><td class = \"rowNumber\" style = \"font-weight: bold; text-align: right;\">4</td><td style = \"text-align: right;\">41</td><td style = \"text-align: right;\">1</td><td style = \"text-align: right;\">41</td><td style = \"text-align: right;\">61638</td><td style = \"text-align: right;\">1</td><td style = \"text-align: right;\">1.0</td><td style = \"text-align: right;\">2001</td></tr><tr><td class = \"rowNumber\" style = \"font-weight: bold; text-align: right;\">5</td><td style = \"text-align: right;\">41</td><td style = \"text-align: right;\">4</td><td style = \"text-align: right;\">63</td><td style = \"text-align: right;\">59287</td><td style = \"text-align: right;\">1</td><td style = \"text-align: right;\">1.0</td><td style = \"text-align: right;\">2001</td></tr><tr><td style = \"text-align: right;\">&vellip;</td><td style = \"text-align: right;\">&vellip;</td><td style = \"text-align: right;\">&vellip;</td><td style = \"text-align: right;\">&vellip;</td><td style = \"text-align: right;\">&vellip;</td><td style = \"text-align: right;\">&vellip;</td><td style = \"text-align: right;\">&vellip;</td><td style = \"text-align: right;\">&vellip;</td></tr><tr><td class = \"rowNumber\" style = \"font-weight: bold; text-align: right;\">2876</td><td style = \"text-align: right;\">41</td><td style = \"text-align: right;\">3</td><td style = \"text-align: right;\">65</td><td style = \"text-align: right;\">67968</td><td style = \"text-align: right;\">1</td><td style = \"text-align: right;\">1.0</td><td style = \"text-align: right;\">2019</td></tr><tr><td class = \"rowNumber\" style = \"font-weight: bold; text-align: right;\">2877</td><td style = \"text-align: right;\">41</td><td style = \"text-align: right;\">0</td><td style = \"text-align: right;\">7</td><td style = \"text-align: right;\">68379</td><td style = \"text-align: right;\">1</td><td style = \"text-align: right;\">1.0</td><td style = \"text-align: right;\">2019</td></tr><tr><td class = \"rowNumber\" style = \"font-weight: bold; text-align: right;\">2878</td><td style = \"text-align: right;\">41</td><td style = \"text-align: right;\">1</td><td style = \"text-align: right;\">39</td><td style = \"text-align: right;\">71081</td><td style = \"text-align: right;\">3</td><td style = \"text-align: right;\">0.086876</td><td style = \"text-align: right;\">2019</td></tr><tr><td class = \"rowNumber\" style = \"font-weight: bold; text-align: right;\">2879</td><td style = \"text-align: right;\">41</td><td style = \"text-align: right;\">1</td><td style = \"text-align: right;\">43</td><td style = \"text-align: right;\">82831</td><td style = \"text-align: right;\">3</td><td style = \"text-align: right;\">0.153842</td><td style = \"text-align: right;\">2019</td></tr><tr><td class = \"rowNumber\" style = \"font-weight: bold; text-align: right;\">2880</td><td style = \"text-align: right;\">41</td><td style = \"text-align: right;\">4</td><td style = \"text-align: right;\">63</td><td style = \"text-align: right;\">52227</td><td style = \"text-align: right;\">1</td><td style = \"text-align: right;\">1.0</td><td style = \"text-align: right;\">2019</td></tr></tbody></table></div>"
      ],
      "text/latex": [
       "\\begin{tabular}{r|ccccccc}\n",
       "\t& STATECD & UNITCD & COUNTYCD & PLOT & CONDID & CONDPROP\\_UNADJ & INVYR\\\\\n",
       "\t\\hline\n",
       "\t& Int64 & Int64 & Int64 & Int64 & Int64 & Float64 & Int64\\\\\n",
       "\t\\hline\n",
       "\t1 & 41 & 4 & 63 & 97331 & 1 & 0.801911 & 2001 \\\\\n",
       "\t2 & 41 & 4 & 63 & 53628 & 1 & 1.0 & 2001 \\\\\n",
       "\t3 & 41 & 2 & 15 & 53474 & 1 & 0.615244 & 2001 \\\\\n",
       "\t4 & 41 & 1 & 41 & 61638 & 1 & 1.0 & 2001 \\\\\n",
       "\t5 & 41 & 4 & 63 & 59287 & 1 & 1.0 & 2001 \\\\\n",
       "\t6 & 41 & 1 & 39 & 74705 & 1 & 1.0 & 2001 \\\\\n",
       "\t7 & 41 & 0 & 7 & 65429 & 1 & 0.868175 & 2001 \\\\\n",
       "\t8 & 41 & 0 & 7 & 65429 & 2 & 0.131825 & 2001 \\\\\n",
       "\t9 & 41 & 0 & 7 & 56407 & 1 & 1.0 & 2001 \\\\\n",
       "\t10 & 41 & 0 & 67 & 93676 & 1 & 1.0 & 2001 \\\\\n",
       "\t11 & 41 & 0 & 47 & 73975 & 1 & 0.849096 & 2001 \\\\\n",
       "\t12 & 41 & 3 & 65 & 62905 & 2 & 0.528972 & 2001 \\\\\n",
       "\t13 & 41 & 2 & 19 & 81294 & 1 & 1.0 & 2001 \\\\\n",
       "\t14 & 41 & 2 & 11 & 74474 & 1 & 1.0 & 2001 \\\\\n",
       "\t15 & 41 & 2 & 19 & 87488 & 1 & 1.0 & 2001 \\\\\n",
       "\t16 & 41 & 2 & 19 & 75882 & 1 & 1.0 & 2001 \\\\\n",
       "\t17 & 41 & 3 & 65 & 97189 & 1 & 1.0 & 2002 \\\\\n",
       "\t18 & 41 & 1 & 39 & 97649 & 1 & 0.75 & 2002 \\\\\n",
       "\t19 & 41 & 2 & 29 & 92225 & 1 & 0.857918 & 2001 \\\\\n",
       "\t20 & 41 & 2 & 29 & 73437 & 1 & 1.0 & 2002 \\\\\n",
       "\t21 & 41 & 1 & 39 & 61346 & 1 & 1.0 & 2002 \\\\\n",
       "\t22 & 41 & 0 & 71 & 62540 & 1 & 1.0 & 2002 \\\\\n",
       "\t23 & 41 & 0 & 67 & 82113 & 2 & 0.015803 & 2002 \\\\\n",
       "\t24 & 41 & 0 & 71 & 61466 & 1 & 1.0 & 2002 \\\\\n",
       "\t$\\dots$ & $\\dots$ & $\\dots$ & $\\dots$ & $\\dots$ & $\\dots$ & $\\dots$ & $\\dots$ \\\\\n",
       "\\end{tabular}\n"
      ],
      "text/plain": [
       "\u001b[1m2880×7 DataFrame\u001b[0m\n",
       "\u001b[1m  Row \u001b[0m│\u001b[1m STATECD \u001b[0m\u001b[1m UNITCD \u001b[0m\u001b[1m COUNTYCD \u001b[0m\u001b[1m PLOT  \u001b[0m\u001b[1m CONDID \u001b[0m\u001b[1m CONDPROP_UNADJ \u001b[0m\u001b[1m INVYR \u001b[0m\n",
       "      │\u001b[90m Int64   \u001b[0m\u001b[90m Int64  \u001b[0m\u001b[90m Int64    \u001b[0m\u001b[90m Int64 \u001b[0m\u001b[90m Int64  \u001b[0m\u001b[90m Float64        \u001b[0m\u001b[90m Int64 \u001b[0m\n",
       "──────┼─────────────────────────────────────────────────────────────────\n",
       "    1 │      41       4        63  97331       1        0.801911   2001\n",
       "    2 │      41       4        63  53628       1        1.0        2001\n",
       "    3 │      41       2        15  53474       1        0.615244   2001\n",
       "    4 │      41       1        41  61638       1        1.0        2001\n",
       "    5 │      41       4        63  59287       1        1.0        2001\n",
       "    6 │      41       1        39  74705       1        1.0        2001\n",
       "    7 │      41       0         7  65429       1        0.868175   2001\n",
       "    8 │      41       0         7  65429       2        0.131825   2001\n",
       "  ⋮   │    ⋮       ⋮        ⋮        ⋮      ⋮           ⋮           ⋮\n",
       " 2874 │      41       2        19  91604       1        0.75       2019\n",
       " 2875 │      41       1        39  80045       1        1.0        2019\n",
       " 2876 │      41       3        65  67968       1        1.0        2019\n",
       " 2877 │      41       0         7  68379       1        1.0        2019\n",
       " 2878 │      41       1        39  71081       3        0.086876   2019\n",
       " 2879 │      41       1        43  82831       3        0.153842   2019\n",
       " 2880 │      41       4        63  52227       1        1.0        2019\n",
       "\u001b[36m                                                       2865 rows omitted\u001b[0m"
      ]
     },
     "metadata": {},
     "output_type": "display_data"
    }
   ],
   "source": [
    "dat_or_cond_less = @chain dat_or_cond begin\n",
    "    @filter(FORTYPCD in 201:203,  OWNGRPCD == 40)\n",
    "    #  Select columns to keep for joins. \n",
    "    @select(STATECD, UNITCD, COUNTYCD, PLOT, CONDID, CONDPROP_UNADJ, INVYR, STDAGE, SITECLCD, DSTRBCD1, DSTRBYR1, TRTCD1, TRTYR1)\n",
    "    #  Select fewer columns (for now).\n",
    "    @select(STATECD, UNITCD, COUNTYCD, PLOT, CONDID, CONDPROP_UNADJ, INVYR)\n",
    "end"
   ]
  },
  {
   "cell_type": "markdown",
   "metadata": {},
   "source": [
    "## 4. Join subsets of plots and conditions."
   ]
  },
  {
   "cell_type": "code",
   "execution_count": 5,
   "metadata": {},
   "outputs": [
    {
     "data": {
      "text/html": [
       "<div><div style = \"float: left;\"><span>1607×11 DataFrame</span></div><div style = \"float: right;\"><span style = \"font-style: italic;\">1 column and 1597 rows omitted</span></div><div style = \"clear: both;\"></div></div><div class = \"data-frame\" style = \"overflow-x: scroll;\"><table class = \"data-frame\" style = \"margin-bottom: 6px;\"><thead><tr class = \"header\"><th class = \"rowNumber\" style = \"font-weight: bold; text-align: right;\">Row</th><th style = \"text-align: left;\">STATECD</th><th style = \"text-align: left;\">UNITCD</th><th style = \"text-align: left;\">COUNTYCD</th><th style = \"text-align: left;\">PLOT</th><th style = \"text-align: left;\">CONDID</th><th style = \"text-align: left;\">CONDPROP_UNADJ</th><th style = \"text-align: left;\">INVYR</th><th style = \"text-align: left;\">MATCH_CN</th><th style = \"text-align: left;\">LON</th><th style = \"text-align: left;\">LAT</th><th style = \"text-align: right;\">&ctdot;</th></tr><tr class = \"subheader headerLastRow\"><th class = \"rowNumber\" style = \"font-weight: bold; text-align: right;\"></th><th title = \"Int64\" style = \"text-align: left;\">Int64</th><th title = \"Int64\" style = \"text-align: left;\">Int64</th><th title = \"Int64\" style = \"text-align: left;\">Int64</th><th title = \"Int64\" style = \"text-align: left;\">Int64</th><th title = \"Int64\" style = \"text-align: left;\">Int64</th><th title = \"Float64\" style = \"text-align: left;\">Float64</th><th title = \"Int64\" style = \"text-align: left;\">Int64</th><th title = \"Union{Missing, Int64}\" style = \"text-align: left;\">Int64?</th><th title = \"Union{Missing, Float64}\" style = \"text-align: left;\">Float64?</th><th title = \"Union{Missing, Float64}\" style = \"text-align: left;\">Float64?</th><th title = \"Union{Missing, Float64}\" style = \"text-align: right;\">&ctdot;</th></tr></thead><tbody><tr><td class = \"rowNumber\" style = \"font-weight: bold; text-align: right;\">1</td><td style = \"text-align: right;\">41</td><td style = \"text-align: right;\">0</td><td style = \"text-align: right;\">7</td><td style = \"text-align: right;\">65429</td><td style = \"text-align: right;\">1</td><td style = \"text-align: right;\">0.868175</td><td style = \"text-align: right;\">2001</td><td style = \"text-align: right;\">23905912010900</td><td style = \"text-align: right;\">-123.455</td><td style = \"text-align: right;\">45.8468</td><td style = \"text-align: right;\">&ctdot;</td></tr><tr><td class = \"rowNumber\" style = \"font-weight: bold; text-align: right;\">2</td><td style = \"text-align: right;\">41</td><td style = \"text-align: right;\">0</td><td style = \"text-align: right;\">7</td><td style = \"text-align: right;\">65429</td><td style = \"text-align: right;\">2</td><td style = \"text-align: right;\">0.131825</td><td style = \"text-align: right;\">2001</td><td style = \"text-align: right;\">23905912010900</td><td style = \"text-align: right;\">-123.455</td><td style = \"text-align: right;\">45.8468</td><td style = \"text-align: right;\">&ctdot;</td></tr><tr><td class = \"rowNumber\" style = \"font-weight: bold; text-align: right;\">3</td><td style = \"text-align: right;\">41</td><td style = \"text-align: right;\">2</td><td style = \"text-align: right;\">15</td><td style = \"text-align: right;\">53474</td><td style = \"text-align: right;\">1</td><td style = \"text-align: right;\">0.615244</td><td style = \"text-align: right;\">2001</td><td style = \"text-align: right;\">23915019010900</td><td style = \"text-align: right;\">-124.33</td><td style = \"text-align: right;\">42.5568</td><td style = \"text-align: right;\">&ctdot;</td></tr><tr><td class = \"rowNumber\" style = \"font-weight: bold; text-align: right;\">4</td><td style = \"text-align: right;\">41</td><td style = \"text-align: right;\">1</td><td style = \"text-align: right;\">41</td><td style = \"text-align: right;\">61638</td><td style = \"text-align: right;\">1</td><td style = \"text-align: right;\">1.0</td><td style = \"text-align: right;\">2001</td><td style = \"text-align: right;\">23869938010900</td><td style = \"text-align: right;\">-123.79</td><td style = \"text-align: right;\">44.7156</td><td style = \"text-align: right;\">&ctdot;</td></tr><tr><td class = \"rowNumber\" style = \"font-weight: bold; text-align: right;\">5</td><td style = \"text-align: right;\">41</td><td style = \"text-align: right;\">1</td><td style = \"text-align: right;\">39</td><td style = \"text-align: right;\">74705</td><td style = \"text-align: right;\">1</td><td style = \"text-align: right;\">1.0</td><td style = \"text-align: right;\">2001</td><td style = \"text-align: right;\">23868974010900</td><td style = \"text-align: right;\">-123.091</td><td style = \"text-align: right;\">43.8213</td><td style = \"text-align: right;\">&ctdot;</td></tr><tr><td style = \"text-align: right;\">&vellip;</td><td style = \"text-align: right;\">&vellip;</td><td style = \"text-align: right;\">&vellip;</td><td style = \"text-align: right;\">&vellip;</td><td style = \"text-align: right;\">&vellip;</td><td style = \"text-align: right;\">&vellip;</td><td style = \"text-align: right;\">&vellip;</td><td style = \"text-align: right;\">&vellip;</td><td style = \"text-align: right;\">&vellip;</td><td style = \"text-align: right;\">&vellip;</td><td style = \"text-align: right;\">&vellip;</td><td style = \"text-align: right;\">&dtdot;</td></tr><tr><td class = \"rowNumber\" style = \"font-weight: bold; text-align: right;\">1603</td><td style = \"text-align: right;\">41</td><td style = \"text-align: right;\">2</td><td style = \"text-align: right;\">15</td><td style = \"text-align: right;\">79813</td><td style = \"text-align: right;\">1</td><td style = \"text-align: right;\">0.805744</td><td style = \"text-align: right;\">2019</td><td style = \"text-align: right;\">29880344010497</td><td style = \"text-align: right;\">-124.334</td><td style = \"text-align: right;\">42.2075</td><td style = \"text-align: right;\">&ctdot;</td></tr><tr><td class = \"rowNumber\" style = \"font-weight: bold; text-align: right;\">1604</td><td style = \"text-align: right;\">41</td><td style = \"text-align: right;\">0</td><td style = \"text-align: right;\">67</td><td style = \"text-align: right;\">52996</td><td style = \"text-align: right;\">1</td><td style = \"text-align: right;\">1.0</td><td style = \"text-align: right;\">2019</td><td style = \"text-align: right;\">29881502010497</td><td style = \"text-align: right;\">-123.204</td><td style = \"text-align: right;\">45.7081</td><td style = \"text-align: right;\">&ctdot;</td></tr><tr><td class = \"rowNumber\" style = \"font-weight: bold; text-align: right;\">1605</td><td style = \"text-align: right;\">41</td><td style = \"text-align: right;\">0</td><td style = \"text-align: right;\">71</td><td style = \"text-align: right;\">93977</td><td style = \"text-align: right;\">2</td><td style = \"text-align: right;\">0.914735</td><td style = \"text-align: right;\">2019</td><td style = \"text-align: right;\">29880276010497</td><td style = \"text-align: right;\">-123.308</td><td style = \"text-align: right;\">45.4068</td><td style = \"text-align: right;\">&ctdot;</td></tr><tr><td class = \"rowNumber\" style = \"font-weight: bold; text-align: right;\">1606</td><td style = \"text-align: right;\">41</td><td style = \"text-align: right;\">0</td><td style = \"text-align: right;\">71</td><td style = \"text-align: right;\">89592</td><td style = \"text-align: right;\">2</td><td style = \"text-align: right;\">0.62063</td><td style = \"text-align: right;\">2019</td><td style = \"text-align: right;\">29880193010497</td><td style = \"text-align: right;\">-123.452</td><td style = \"text-align: right;\">45.3549</td><td style = \"text-align: right;\">&ctdot;</td></tr><tr><td class = \"rowNumber\" style = \"font-weight: bold; text-align: right;\">1607</td><td style = \"text-align: right;\">41</td><td style = \"text-align: right;\">0</td><td style = \"text-align: right;\">71</td><td style = \"text-align: right;\">64901</td><td style = \"text-align: right;\">1</td><td style = \"text-align: right;\">0.867119</td><td style = \"text-align: right;\">2019</td><td style = \"text-align: right;\">29881401010497</td><td style = \"text-align: right;\">-123.442</td><td style = \"text-align: right;\">45.1988</td><td style = \"text-align: right;\">&ctdot;</td></tr></tbody></table></div>"
      ],
      "text/latex": [
       "\\begin{tabular}{r|ccccccccc}\n",
       "\t& STATECD & UNITCD & COUNTYCD & PLOT & CONDID & CONDPROP\\_UNADJ & INVYR & MATCH\\_CN & \\\\\n",
       "\t\\hline\n",
       "\t& Int64 & Int64 & Int64 & Int64 & Int64 & Float64 & Int64 & Int64? & \\\\\n",
       "\t\\hline\n",
       "\t1 & 41 & 0 & 7 & 65429 & 1 & 0.868175 & 2001 & 23905912010900 & $\\dots$ \\\\\n",
       "\t2 & 41 & 0 & 7 & 65429 & 2 & 0.131825 & 2001 & 23905912010900 & $\\dots$ \\\\\n",
       "\t3 & 41 & 2 & 15 & 53474 & 1 & 0.615244 & 2001 & 23915019010900 & $\\dots$ \\\\\n",
       "\t4 & 41 & 1 & 41 & 61638 & 1 & 1.0 & 2001 & 23869938010900 & $\\dots$ \\\\\n",
       "\t5 & 41 & 1 & 39 & 74705 & 1 & 1.0 & 2001 & 23868974010900 & $\\dots$ \\\\\n",
       "\t6 & 41 & 0 & 7 & 56407 & 1 & 1.0 & 2001 & 23906711010900 & $\\dots$ \\\\\n",
       "\t7 & 41 & 0 & 67 & 93676 & 1 & 1.0 & 2001 & 23827335010900 & $\\dots$ \\\\\n",
       "\t8 & 41 & 0 & 47 & 73975 & 1 & 0.849096 & 2001 & 23844599010900 & $\\dots$ \\\\\n",
       "\t9 & 41 & 1 & 39 & 70595 & 1 & 1.0 & 2001 & 23865381010900 & $\\dots$ \\\\\n",
       "\t10 & 41 & 1 & 39 & 64419 & 1 & 0.756195 & 2001 & 23865829010900 & $\\dots$ \\\\\n",
       "\t11 & 41 & 1 & 43 & 79818 & 1 & 0.883761 & 2001 & 23873740010900 & $\\dots$ \\\\\n",
       "\t12 & 41 & 2 & 33 & 54441 & 1 & 0.915409 & 2001 & 23884828010900 & $\\dots$ \\\\\n",
       "\t13 & 41 & 2 & 19 & 81294 & 1 & 1.0 & 2001 & 23927978010900 & $\\dots$ \\\\\n",
       "\t14 & 41 & 2 & 11 & 74474 & 1 & 1.0 & 2001 & 23909053010900 & $\\dots$ \\\\\n",
       "\t15 & 41 & 2 & 19 & 87488 & 1 & 1.0 & 2001 & 23929781010900 & $\\dots$ \\\\\n",
       "\t16 & 41 & 2 & 19 & 75882 & 1 & 1.0 & 2001 & 23929892010900 & $\\dots$ \\\\\n",
       "\t17 & 41 & 1 & 3 & 88586 & 2 & 0.922024 & 2001 & 23901966010900 & $\\dots$ \\\\\n",
       "\t18 & 41 & 2 & 29 & 92225 & 1 & 0.857918 & 2001 & 23881286010900 & $\\dots$ \\\\\n",
       "\t19 & 41 & 1 & 39 & 85692 & 1 & 1.0 & 2001 & 23864828010900 & $\\dots$ \\\\\n",
       "\t20 & 41 & 2 & 29 & 70278 & 1 & 1.0 & 2001 & 23881683010900 & $\\dots$ \\\\\n",
       "\t21 & 41 & 0 & 5 & 62835 & 1 & 0.93366 & 2001 & 23902711010900 & $\\dots$ \\\\\n",
       "\t22 & 41 & 2 & 29 & 61476 & 1 & 1.0 & 2001 & 23880904010900 & $\\dots$ \\\\\n",
       "\t23 & 41 & 1 & 41 & 83637 & 1 & 1.0 & 2001 & 23870321010900 & $\\dots$ \\\\\n",
       "\t24 & 41 & 0 & 47 & 59472 & 1 & 1.0 & 2001 & 23845923010900 & $\\dots$ \\\\\n",
       "\t$\\dots$ & $\\dots$ & $\\dots$ & $\\dots$ & $\\dots$ & $\\dots$ & $\\dots$ & $\\dots$ & $\\dots$ &  \\\\\n",
       "\\end{tabular}\n"
      ],
      "text/plain": [
       "\u001b[1m1607×11 DataFrame\u001b[0m\n",
       "\u001b[1m  Row \u001b[0m│\u001b[1m STATECD \u001b[0m\u001b[1m UNITCD \u001b[0m\u001b[1m COUNTYCD \u001b[0m\u001b[1m PLOT  \u001b[0m\u001b[1m CONDID \u001b[0m\u001b[1m CONDPROP_UNADJ \u001b[0m\u001b[1m INVYR \u001b[0m\u001b[1m MATCH\u001b[0m ⋯\n",
       "      │\u001b[90m Int64   \u001b[0m\u001b[90m Int64  \u001b[0m\u001b[90m Int64    \u001b[0m\u001b[90m Int64 \u001b[0m\u001b[90m Int64  \u001b[0m\u001b[90m Float64        \u001b[0m\u001b[90m Int64 \u001b[0m\u001b[90m Int64\u001b[0m ⋯\n",
       "──────┼─────────────────────────────────────────────────────────────────────────\n",
       "    1 │      41       0         7  65429       1        0.868175   2001  23905 ⋯\n",
       "    2 │      41       0         7  65429       2        0.131825   2001  23905\n",
       "    3 │      41       2        15  53474       1        0.615244   2001  23915\n",
       "    4 │      41       1        41  61638       1        1.0        2001  23869\n",
       "    5 │      41       1        39  74705       1        1.0        2001  23868 ⋯\n",
       "    6 │      41       0         7  56407       1        1.0        2001  23906\n",
       "    7 │      41       0        67  93676       1        1.0        2001  23827\n",
       "    8 │      41       0        47  73975       1        0.849096   2001  23844\n",
       "  ⋮   │    ⋮       ⋮        ⋮        ⋮      ⋮           ⋮           ⋮          ⋱\n",
       " 1601 │      41       0        67  67647       1        0.469243   2019  29882 ⋯\n",
       " 1602 │      41       0        57  55566       1        0.75       2019  29882\n",
       " 1603 │      41       2        15  79813       1        0.805744   2019  29880\n",
       " 1604 │      41       0        67  52996       1        1.0        2019  29881\n",
       " 1605 │      41       0        71  93977       2        0.914735   2019  29880 ⋯\n",
       " 1606 │      41       0        71  89592       2        0.62063    2019  29880\n",
       " 1607 │      41       0        71  64901       1        0.867119   2019  29881\n",
       "\u001b[36m                                                 4 columns and 1592 rows omitted\u001b[0m"
      ]
     },
     "metadata": {},
     "output_type": "display_data"
    }
   ],
   "source": [
    "dat_or_keep = @chain dat_or_cond_less begin\n",
    "    @left_join(dat_or_plot_less)\n",
    "    @filter(join == 1)\n",
    "end"
   ]
  },
  {
   "cell_type": "markdown",
   "metadata": {},
   "source": [
    "## 5. Use the result of (4) to filter trees, then filter trees to Douglas fir."
   ]
  },
  {
   "cell_type": "code",
   "execution_count": 6,
   "metadata": {},
   "outputs": [
    {
     "data": {
      "text/html": [
       "<div><div style = \"float: left;\"><span>31915×14 DataFrame</span></div><div style = \"float: right;\"><span style = \"font-style: italic;\">4 columns and 31905 rows omitted</span></div><div style = \"clear: both;\"></div></div><div class = \"data-frame\" style = \"overflow-x: scroll;\"><table class = \"data-frame\" style = \"margin-bottom: 6px;\"><thead><tr class = \"header\"><th class = \"rowNumber\" style = \"font-weight: bold; text-align: right;\">Row</th><th style = \"text-align: left;\">CN</th><th style = \"text-align: left;\">STATECD</th><th style = \"text-align: left;\">UNITCD</th><th style = \"text-align: left;\">COUNTYCD</th><th style = \"text-align: left;\">PLOT</th><th style = \"text-align: left;\">CONDID</th><th style = \"text-align: left;\">INVYR</th><th style = \"text-align: left;\">SPGRPCD</th><th style = \"text-align: left;\">VOLCFNET</th><th style = \"text-align: left;\">TPA_UNADJ</th><th style = \"text-align: right;\">&ctdot;</th></tr><tr class = \"subheader headerLastRow\"><th class = \"rowNumber\" style = \"font-weight: bold; text-align: right;\"></th><th title = \"Int64\" style = \"text-align: left;\">Int64</th><th title = \"Int64\" style = \"text-align: left;\">Int64</th><th title = \"Int64\" style = \"text-align: left;\">Int64</th><th title = \"Int64\" style = \"text-align: left;\">Int64</th><th title = \"Int64\" style = \"text-align: left;\">Int64</th><th title = \"Int64\" style = \"text-align: left;\">Int64</th><th title = \"Int64\" style = \"text-align: left;\">Int64</th><th title = \"Int64\" style = \"text-align: left;\">Int64</th><th title = \"Union{Missing, Float64}\" style = \"text-align: left;\">Float64?</th><th title = \"Union{Missing, Float64}\" style = \"text-align: left;\">Float64?</th><th title = \"Union{Missing, Float64}\" style = \"text-align: right;\">&ctdot;</th></tr></thead><tbody><tr><td class = \"rowNumber\" style = \"font-weight: bold; text-align: right;\">1</td><td style = \"text-align: right;\">23906794010900</td><td style = \"text-align: right;\">41</td><td style = \"text-align: right;\">0</td><td style = \"text-align: right;\">7</td><td style = \"text-align: right;\">56407</td><td style = \"text-align: right;\">1</td><td style = \"text-align: right;\">2001</td><td style = \"text-align: right;\">10</td><td style = \"text-align: right;\">4.60945</td><td style = \"text-align: right;\">6.01805</td><td style = \"text-align: right;\">&ctdot;</td></tr><tr><td class = \"rowNumber\" style = \"font-weight: bold; text-align: right;\">2</td><td style = \"text-align: right;\">23906798010900</td><td style = \"text-align: right;\">41</td><td style = \"text-align: right;\">0</td><td style = \"text-align: right;\">7</td><td style = \"text-align: right;\">56407</td><td style = \"text-align: right;\">1</td><td style = \"text-align: right;\">2001</td><td style = \"text-align: right;\">10</td><td style = \"text-align: right;\">3.0187</td><td style = \"text-align: right;\">6.01805</td><td style = \"text-align: right;\">&ctdot;</td></tr><tr><td class = \"rowNumber\" style = \"font-weight: bold; text-align: right;\">3</td><td style = \"text-align: right;\">23906769010900</td><td style = \"text-align: right;\">41</td><td style = \"text-align: right;\">0</td><td style = \"text-align: right;\">7</td><td style = \"text-align: right;\">56407</td><td style = \"text-align: right;\">1</td><td style = \"text-align: right;\">2001</td><td style = \"text-align: right;\">10</td><td style = \"text-align: right;\">62.3187</td><td style = \"text-align: right;\">0.999188</td><td style = \"text-align: right;\">&ctdot;</td></tr><tr><td class = \"rowNumber\" style = \"font-weight: bold; text-align: right;\">4</td><td style = \"text-align: right;\">23906777010900</td><td style = \"text-align: right;\">41</td><td style = \"text-align: right;\">0</td><td style = \"text-align: right;\">7</td><td style = \"text-align: right;\">56407</td><td style = \"text-align: right;\">1</td><td style = \"text-align: right;\">2001</td><td style = \"text-align: right;\">10</td><td style = \"text-align: right;\">2.4243</td><td style = \"text-align: right;\">6.01805</td><td style = \"text-align: right;\">&ctdot;</td></tr><tr><td class = \"rowNumber\" style = \"font-weight: bold; text-align: right;\">5</td><td style = \"text-align: right;\">23906800010900</td><td style = \"text-align: right;\">41</td><td style = \"text-align: right;\">0</td><td style = \"text-align: right;\">7</td><td style = \"text-align: right;\">56407</td><td style = \"text-align: right;\">1</td><td style = \"text-align: right;\">2001</td><td style = \"text-align: right;\">10</td><td style = \"text-align: right;\">8.33663</td><td style = \"text-align: right;\">6.01805</td><td style = \"text-align: right;\">&ctdot;</td></tr><tr><td style = \"text-align: right;\">&vellip;</td><td style = \"text-align: right;\">&vellip;</td><td style = \"text-align: right;\">&vellip;</td><td style = \"text-align: right;\">&vellip;</td><td style = \"text-align: right;\">&vellip;</td><td style = \"text-align: right;\">&vellip;</td><td style = \"text-align: right;\">&vellip;</td><td style = \"text-align: right;\">&vellip;</td><td style = \"text-align: right;\">&vellip;</td><td style = \"text-align: right;\">&vellip;</td><td style = \"text-align: right;\">&vellip;</td><td style = \"text-align: right;\">&dtdot;</td></tr><tr><td class = \"rowNumber\" style = \"font-weight: bold; text-align: right;\">31911</td><td style = \"text-align: right;\">1285676658290487</td><td style = \"text-align: right;\">41</td><td style = \"text-align: right;\">2</td><td style = \"text-align: right;\">11</td><td style = \"text-align: right;\">53140</td><td style = \"text-align: right;\">1</td><td style = \"text-align: right;\">2021</td><td style = \"text-align: right;\">10</td><td style = \"text-align: right;\">41.4217</td><td style = \"text-align: right;\">6.01805</td><td style = \"text-align: right;\">&ctdot;</td></tr><tr><td class = \"rowNumber\" style = \"font-weight: bold; text-align: right;\">31912</td><td style = \"text-align: right;\">1285676662290487</td><td style = \"text-align: right;\">41</td><td style = \"text-align: right;\">2</td><td style = \"text-align: right;\">11</td><td style = \"text-align: right;\">53140</td><td style = \"text-align: right;\">1</td><td style = \"text-align: right;\">2021</td><td style = \"text-align: right;\">10</td><td style = \"text-align: right;\">34.8015</td><td style = \"text-align: right;\">6.01805</td><td style = \"text-align: right;\">&ctdot;</td></tr><tr><td class = \"rowNumber\" style = \"font-weight: bold; text-align: right;\">31913</td><td style = \"text-align: right;\">1285676664290487</td><td style = \"text-align: right;\">41</td><td style = \"text-align: right;\">2</td><td style = \"text-align: right;\">11</td><td style = \"text-align: right;\">53140</td><td style = \"text-align: right;\">1</td><td style = \"text-align: right;\">2021</td><td style = \"text-align: right;\">10</td><td style = \"text-align: right;\">10.8199</td><td style = \"text-align: right;\">6.01805</td><td style = \"text-align: right;\">&ctdot;</td></tr><tr><td class = \"rowNumber\" style = \"font-weight: bold; text-align: right;\">31914</td><td style = \"text-align: right;\">1285676671290487</td><td style = \"text-align: right;\">41</td><td style = \"text-align: right;\">2</td><td style = \"text-align: right;\">11</td><td style = \"text-align: right;\">53140</td><td style = \"text-align: right;\">1</td><td style = \"text-align: right;\">2021</td><td style = \"text-align: right;\">10</td><td style = \"text-align: right;\">12.2852</td><td style = \"text-align: right;\">6.01805</td><td style = \"text-align: right;\">&ctdot;</td></tr><tr><td class = \"rowNumber\" style = \"font-weight: bold; text-align: right;\">31915</td><td style = \"text-align: right;\">1127583912290487</td><td style = \"text-align: right;\">41</td><td style = \"text-align: right;\">2</td><td style = \"text-align: right;\">19</td><td style = \"text-align: right;\">73052</td><td style = \"text-align: right;\">2</td><td style = \"text-align: right;\">2021</td><td style = \"text-align: right;\">10</td><td style = \"text-align: right;\">1.05136</td><td style = \"text-align: right;\">6.01805</td><td style = \"text-align: right;\">&ctdot;</td></tr></tbody></table></div>"
      ],
      "text/latex": [
       "\\begin{tabular}{r|cccccccccc}\n",
       "\t& CN & STATECD & UNITCD & COUNTYCD & PLOT & CONDID & INVYR & SPGRPCD & VOLCFNET & \\\\\n",
       "\t\\hline\n",
       "\t& Int64 & Int64 & Int64 & Int64 & Int64 & Int64 & Int64 & Int64 & Float64? & \\\\\n",
       "\t\\hline\n",
       "\t1 & 23906794010900 & 41 & 0 & 7 & 56407 & 1 & 2001 & 10 & 4.60945 & $\\dots$ \\\\\n",
       "\t2 & 23906798010900 & 41 & 0 & 7 & 56407 & 1 & 2001 & 10 & 3.0187 & $\\dots$ \\\\\n",
       "\t3 & 23906769010900 & 41 & 0 & 7 & 56407 & 1 & 2001 & 10 & 62.3187 & $\\dots$ \\\\\n",
       "\t4 & 23906777010900 & 41 & 0 & 7 & 56407 & 1 & 2001 & 10 & 2.4243 & $\\dots$ \\\\\n",
       "\t5 & 23906800010900 & 41 & 0 & 7 & 56407 & 1 & 2001 & 10 & 8.33663 & $\\dots$ \\\\\n",
       "\t6 & 23906808010900 & 41 & 0 & 7 & 56407 & 1 & 2001 & 10 & 2.27229 & $\\dots$ \\\\\n",
       "\t7 & 23906802010900 & 41 & 0 & 7 & 56407 & 1 & 2001 & 10 & 2.69919 & $\\dots$ \\\\\n",
       "\t8 & 23906814010900 & 41 & 0 & 7 & 56407 & 1 & 2001 & 10 & 6.5501 & $\\dots$ \\\\\n",
       "\t9 & 23906820010900 & 41 & 0 & 7 & 56407 & 1 & 2001 & 10 & 6.84149 & $\\dots$ \\\\\n",
       "\t10 & 23906822010900 & 41 & 0 & 7 & 56407 & 1 & 2001 & 10 & 3.22962 & $\\dots$ \\\\\n",
       "\t11 & 23906824010900 & 41 & 0 & 7 & 56407 & 1 & 2001 & 10 & 9.93195 & $\\dots$ \\\\\n",
       "\t12 & 23906787010900 & 41 & 0 & 7 & 56407 & 1 & 2001 & 10 & 2.4252 & $\\dots$ \\\\\n",
       "\t13 & 23906771010900 & 41 & 0 & 7 & 56407 & 1 & 2001 & 10 & 14.4496 & $\\dots$ \\\\\n",
       "\t14 & 23906773010900 & 41 & 0 & 7 & 56407 & 1 & 2001 & 10 & 1.16722 & $\\dots$ \\\\\n",
       "\t15 & 23906775010900 & 41 & 0 & 7 & 56407 & 1 & 2001 & 10 & 13.2757 & $\\dots$ \\\\\n",
       "\t16 & 23906789010900 & 41 & 0 & 7 & 56407 & 1 & 2001 & 10 & 6.7039 & $\\dots$ \\\\\n",
       "\t17 & 23906736010900 & 41 & 0 & 7 & 56407 & 1 & 2001 & 10 & 3.50906 & $\\dots$ \\\\\n",
       "\t18 & 23906779010900 & 41 & 0 & 7 & 56407 & 1 & 2001 & 10 & 4.24647 & $\\dots$ \\\\\n",
       "\t19 & 23906781010900 & 41 & 0 & 7 & 56407 & 1 & 2001 & 10 & 4.79497 & $\\dots$ \\\\\n",
       "\t20 & 23906783010900 & 41 & 0 & 7 & 56407 & 1 & 2001 & 10 & 8.11509 & $\\dots$ \\\\\n",
       "\t21 & 23906741010900 & 41 & 0 & 7 & 56407 & 1 & 2001 & 10 & 1.84515 & $\\dots$ \\\\\n",
       "\t22 & 23906750010900 & 41 & 0 & 7 & 56407 & 1 & 2001 & 10 & 7.64145 & $\\dots$ \\\\\n",
       "\t23 & 23906748010900 & 41 & 0 & 7 & 56407 & 1 & 2001 & 10 & 3.71497 & $\\dots$ \\\\\n",
       "\t24 & 23906758010900 & 41 & 0 & 7 & 56407 & 1 & 2001 & 10 & 211.378 & $\\dots$ \\\\\n",
       "\t$\\dots$ & $\\dots$ & $\\dots$ & $\\dots$ & $\\dots$ & $\\dots$ & $\\dots$ & $\\dots$ & $\\dots$ & $\\dots$ &  \\\\\n",
       "\\end{tabular}\n"
      ],
      "text/plain": [
       "\u001b[1m31915×14 DataFrame\u001b[0m\n",
       "\u001b[1m   Row \u001b[0m│\u001b[1m CN               \u001b[0m\u001b[1m STATECD \u001b[0m\u001b[1m UNITCD \u001b[0m\u001b[1m COUNTYCD \u001b[0m\u001b[1m PLOT  \u001b[0m\u001b[1m CONDID \u001b[0m\u001b[1m INVYR \u001b[0m\u001b[1m SP\u001b[0m ⋯\n",
       "       │\u001b[90m Int64            \u001b[0m\u001b[90m Int64   \u001b[0m\u001b[90m Int64  \u001b[0m\u001b[90m Int64    \u001b[0m\u001b[90m Int64 \u001b[0m\u001b[90m Int64  \u001b[0m\u001b[90m Int64 \u001b[0m\u001b[90m In\u001b[0m ⋯\n",
       "───────┼────────────────────────────────────────────────────────────────────────\n",
       "     1 │   23906794010900       41       0         7  56407       1   2001     ⋯\n",
       "     2 │   23906798010900       41       0         7  56407       1   2001\n",
       "     3 │   23906769010900       41       0         7  56407       1   2001\n",
       "     4 │   23906777010900       41       0         7  56407       1   2001\n",
       "     5 │   23906800010900       41       0         7  56407       1   2001     ⋯\n",
       "     6 │   23906808010900       41       0         7  56407       1   2001\n",
       "     7 │   23906802010900       41       0         7  56407       1   2001\n",
       "     8 │   23906814010900       41       0         7  56407       1   2001\n",
       "   ⋮   │        ⋮             ⋮       ⋮        ⋮        ⋮      ⋮       ⋮       ⋱\n",
       " 31909 │ 1285679714290487       41       1        39  92716       1   2021     ⋯\n",
       " 31910 │ 1285676644290487       41       2        11  53140       1   2021\n",
       " 31911 │ 1285676658290487       41       2        11  53140       1   2021\n",
       " 31912 │ 1285676662290487       41       2        11  53140       1   2021\n",
       " 31913 │ 1285676664290487       41       2        11  53140       1   2021     ⋯\n",
       " 31914 │ 1285676671290487       41       2        11  53140       1   2021\n",
       " 31915 │ 1127583912290487       41       2        19  73052       2   2021\n",
       "\u001b[36m                                                7 columns and 31900 rows omitted\u001b[0m"
      ]
     },
     "metadata": {},
     "output_type": "display_data"
    }
   ],
   "source": [
    "dat_or_tree_less = @chain dat_or_tree begin\n",
    "    # Select columns that we might use.\n",
    "    @select(CN, STATECD, UNITCD, COUNTYCD, PLOT, CONDID, INVYR, SPGRPCD, VOLCFNET, TPA_UNADJ)\n",
    "    # Get plot and condition information.\n",
    "    @left_join(dat_or_keep)\n",
    "    # Filter on plot and condition.\n",
    "    @filter(join == 1)\n",
    "    @select(-join)\n",
    "    # Filter on species group (down to Douglas firs). This is equivalent to SPCD == 202.\n",
    "    @filter(SPGRPCD == 10)\n",
    "end"
   ]
  },
  {
   "cell_type": "markdown",
   "metadata": {},
   "source": [
    "## 6. Aggregate to volume-per-acre, then pivot."
   ]
  },
  {
   "cell_type": "code",
   "execution_count": 7,
   "metadata": {},
   "outputs": [
    {
     "data": {
      "text/html": [
       "<div><div style = \"float: left;\"><span>920×7 DataFrame</span></div><div style = \"float: right;\"><span style = \"font-style: italic;\">910 rows omitted</span></div><div style = \"clear: both;\"></div></div><div class = \"data-frame\" style = \"overflow-x: scroll;\"><table class = \"data-frame\" style = \"margin-bottom: 6px;\"><thead><tr class = \"header\"><th class = \"rowNumber\" style = \"font-weight: bold; text-align: right;\">Row</th><th style = \"text-align: left;\">PLOT_UID</th><th style = \"text-align: left;\">MATCH_CN</th><th style = \"text-align: left;\">LON</th><th style = \"text-align: left;\">LAT</th><th style = \"text-align: left;\">INVYR</th><th style = \"text-align: left;\">VOLCFNET</th><th style = \"text-align: left;\">WHICH</th></tr><tr class = \"subheader headerLastRow\"><th class = \"rowNumber\" style = \"font-weight: bold; text-align: right;\"></th><th title = \"String\" style = \"text-align: left;\">String</th><th title = \"Union{Missing, Int64}\" style = \"text-align: left;\">Int64?</th><th title = \"Union{Missing, Float64}\" style = \"text-align: left;\">Float64?</th><th title = \"Union{Missing, Float64}\" style = \"text-align: left;\">Float64?</th><th title = \"Int64\" style = \"text-align: left;\">Int64</th><th title = \"Float64\" style = \"text-align: left;\">Float64</th><th title = \"String\" style = \"text-align: left;\">String</th></tr></thead><tbody><tr><td class = \"rowNumber\" style = \"font-weight: bold; text-align: right;\">1</td><td style = \"text-align: left;\">41_0_27_51533_1</td><td style = \"text-align: right;\">22954279010497</td><td style = \"text-align: right;\">-121.493</td><td style = \"text-align: right;\">45.5487</td><td style = \"text-align: right;\">2007</td><td style = \"text-align: right;\">463.722</td><td style = \"text-align: left;\">First</td></tr><tr><td class = \"rowNumber\" style = \"font-weight: bold; text-align: right;\">2</td><td style = \"text-align: left;\">41_0_27_51533_1</td><td style = \"text-align: right;\">22954279010497</td><td style = \"text-align: right;\">-121.493</td><td style = \"text-align: right;\">45.5487</td><td style = \"text-align: right;\">2017</td><td style = \"text-align: right;\">1508.13</td><td style = \"text-align: left;\">Second</td></tr><tr><td class = \"rowNumber\" style = \"font-weight: bold; text-align: right;\">3</td><td style = \"text-align: left;\">41_0_27_72243_1</td><td style = \"text-align: right;\">24932528010900</td><td style = \"text-align: right;\">-121.566</td><td style = \"text-align: right;\">45.4899</td><td style = \"text-align: right;\">2004</td><td style = \"text-align: right;\">1630.26</td><td style = \"text-align: left;\">First</td></tr><tr><td class = \"rowNumber\" style = \"font-weight: bold; text-align: right;\">4</td><td style = \"text-align: left;\">41_0_27_72243_1</td><td style = \"text-align: right;\">24932528010900</td><td style = \"text-align: right;\">-121.566</td><td style = \"text-align: right;\">45.4899</td><td style = \"text-align: right;\">2014</td><td style = \"text-align: right;\">2733.56</td><td style = \"text-align: left;\">Second</td></tr><tr><td class = \"rowNumber\" style = \"font-weight: bold; text-align: right;\">5</td><td style = \"text-align: left;\">41_0_27_75074_1</td><td style = \"text-align: right;\">12876232010497</td><td style = \"text-align: right;\">-121.692</td><td style = \"text-align: right;\">45.5427</td><td style = \"text-align: right;\">2005</td><td style = \"text-align: right;\">44.9619</td><td style = \"text-align: left;\">First</td></tr><tr><td style = \"text-align: right;\">&vellip;</td><td style = \"text-align: right;\">&vellip;</td><td style = \"text-align: right;\">&vellip;</td><td style = \"text-align: right;\">&vellip;</td><td style = \"text-align: right;\">&vellip;</td><td style = \"text-align: right;\">&vellip;</td><td style = \"text-align: right;\">&vellip;</td><td style = \"text-align: right;\">&vellip;</td></tr><tr><td class = \"rowNumber\" style = \"font-weight: bold; text-align: right;\">916</td><td style = \"text-align: left;\">41_3_65_97674_1</td><td style = \"text-align: right;\">12795490010497</td><td style = \"text-align: right;\">-121.465</td><td style = \"text-align: right;\">45.0413</td><td style = \"text-align: right;\">2015</td><td style = \"text-align: right;\">1578.15</td><td style = \"text-align: left;\">Second</td></tr><tr><td class = \"rowNumber\" style = \"font-weight: bold; text-align: right;\">917</td><td style = \"text-align: left;\">41_3_65_98082_1</td><td style = \"text-align: right;\">25088840010900</td><td style = \"text-align: right;\">-121.636</td><td style = \"text-align: right;\">44.953</td><td style = \"text-align: right;\">2004</td><td style = \"text-align: right;\">2170.76</td><td style = \"text-align: left;\">First</td></tr><tr><td class = \"rowNumber\" style = \"font-weight: bold; text-align: right;\">918</td><td style = \"text-align: left;\">41_3_65_98082_1</td><td style = \"text-align: right;\">25088840010900</td><td style = \"text-align: right;\">-121.636</td><td style = \"text-align: right;\">44.953</td><td style = \"text-align: right;\">2014</td><td style = \"text-align: right;\">4228.93</td><td style = \"text-align: left;\">Second</td></tr><tr><td class = \"rowNumber\" style = \"font-weight: bold; text-align: right;\">919</td><td style = \"text-align: left;\">41_3_69_92369_1</td><td style = \"text-align: right;\">29882327010497</td><td style = \"text-align: right;\">-120.114</td><td style = \"text-align: right;\">44.8686</td><td style = \"text-align: right;\">2009</td><td style = \"text-align: right;\">1208.23</td><td style = \"text-align: left;\">First</td></tr><tr><td class = \"rowNumber\" style = \"font-weight: bold; text-align: right;\">920</td><td style = \"text-align: left;\">41_3_69_92369_1</td><td style = \"text-align: right;\">29882327010497</td><td style = \"text-align: right;\">-120.114</td><td style = \"text-align: right;\">44.8686</td><td style = \"text-align: right;\">2019</td><td style = \"text-align: right;\">1818.05</td><td style = \"text-align: left;\">Second</td></tr></tbody></table></div>"
      ],
      "text/latex": [
       "\\begin{tabular}{r|ccccccc}\n",
       "\t& PLOT\\_UID & MATCH\\_CN & LON & LAT & INVYR & VOLCFNET & WHICH\\\\\n",
       "\t\\hline\n",
       "\t& String & Int64? & Float64? & Float64? & Int64 & Float64 & String\\\\\n",
       "\t\\hline\n",
       "\t1 & 41\\_0\\_27\\_51533\\_1 & 22954279010497 & -121.493 & 45.5487 & 2007 & 463.722 & First \\\\\n",
       "\t2 & 41\\_0\\_27\\_51533\\_1 & 22954279010497 & -121.493 & 45.5487 & 2017 & 1508.13 & Second \\\\\n",
       "\t3 & 41\\_0\\_27\\_72243\\_1 & 24932528010900 & -121.566 & 45.4899 & 2004 & 1630.26 & First \\\\\n",
       "\t4 & 41\\_0\\_27\\_72243\\_1 & 24932528010900 & -121.566 & 45.4899 & 2014 & 2733.56 & Second \\\\\n",
       "\t5 & 41\\_0\\_27\\_75074\\_1 & 12876232010497 & -121.692 & 45.5427 & 2005 & 44.9619 & First \\\\\n",
       "\t6 & 41\\_0\\_27\\_75074\\_1 & 12876232010497 & -121.692 & 45.5427 & 2015 & 446.564 & Second \\\\\n",
       "\t7 & 41\\_0\\_47\\_52145\\_1 & 29881249010497 & -122.483 & 44.8223 & 2009 & 2110.81 & First \\\\\n",
       "\t8 & 41\\_0\\_47\\_52145\\_1 & 29881249010497 & -122.483 & 44.8223 & 2019 & 4308.39 & Second \\\\\n",
       "\t9 & 41\\_0\\_47\\_59472\\_1 & 23845923010900 & -122.615 & 44.9544 & 2001 & 8512.12 & First \\\\\n",
       "\t10 & 41\\_0\\_47\\_59472\\_1 & 23845923010900 & -122.615 & 44.9544 & 2011 & 213.922 & Second \\\\\n",
       "\t11 & 41\\_0\\_47\\_61424\\_1 & 22954196010497 & -122.584 & 44.9879 & 2007 & 853.323 & First \\\\\n",
       "\t12 & 41\\_0\\_47\\_61424\\_1 & 22954196010497 & -122.584 & 44.9879 & 2017 & 2912.5 & Second \\\\\n",
       "\t13 & 41\\_0\\_47\\_72746\\_1 & 12901889010497 & -122.656 & 44.9811 & 2005 & 966.631 & First \\\\\n",
       "\t14 & 41\\_0\\_47\\_72746\\_1 & 12901889010497 & -122.656 & 44.9811 & 2015 & 2980.41 & Second \\\\\n",
       "\t15 & 41\\_0\\_47\\_74182\\_1 & 22825072010497 & -122.543 & 44.8091 & 2007 & 5776.93 & First \\\\\n",
       "\t16 & 41\\_0\\_47\\_74182\\_1 & 22825072010497 & -122.543 & 44.8091 & 2017 & 6452.38 & Second \\\\\n",
       "\t17 & 41\\_0\\_47\\_76318\\_1 & 24097782010900 & -122.409 & 44.7608 & 2002 & 5941.35 & First \\\\\n",
       "\t18 & 41\\_0\\_47\\_76318\\_1 & 24097782010900 & -122.409 & 44.7608 & 2012 & 6385.56 & Second \\\\\n",
       "\t19 & 41\\_0\\_47\\_81093\\_1 & 12900747010497 & -122.608 & 44.81 & 2005 & 5301.1 & First \\\\\n",
       "\t20 & 41\\_0\\_47\\_81093\\_1 & 12900747010497 & -122.608 & 44.81 & 2015 & 7205.79 & Second \\\\\n",
       "\t21 & 41\\_0\\_47\\_81249\\_1 & 29882491010497 & -123.033 & 45.0614 & 2009 & 7330.71 & First \\\\\n",
       "\t22 & 41\\_0\\_47\\_81249\\_1 & 29882491010497 & -123.033 & 45.0614 & 2019 & 9129.09 & Second \\\\\n",
       "\t23 & 41\\_0\\_47\\_81424\\_1 & 24379428010900 & -122.532 & 44.7896 & 2003 & 332.698 & First \\\\\n",
       "\t24 & 41\\_0\\_47\\_81424\\_1 & 24379428010900 & -122.532 & 44.7896 & 2013 & 2370.09 & Second \\\\\n",
       "\t$\\dots$ & $\\dots$ & $\\dots$ & $\\dots$ & $\\dots$ & $\\dots$ & $\\dots$ & $\\dots$ \\\\\n",
       "\\end{tabular}\n"
      ],
      "text/plain": [
       "\u001b[1m920×7 DataFrame\u001b[0m\n",
       "\u001b[1m Row \u001b[0m│\u001b[1m PLOT_UID        \u001b[0m\u001b[1m MATCH_CN       \u001b[0m\u001b[1m LON      \u001b[0m\u001b[1m LAT      \u001b[0m\u001b[1m INVYR \u001b[0m\u001b[1m VOLCFNET  \u001b[0m\u001b[1m \u001b[0m ⋯\n",
       "     │\u001b[90m String          \u001b[0m\u001b[90m Int64?         \u001b[0m\u001b[90m Float64? \u001b[0m\u001b[90m Float64? \u001b[0m\u001b[90m Int64 \u001b[0m\u001b[90m Float64   \u001b[0m\u001b[90m \u001b[0m ⋯\n",
       "─────┼──────────────────────────────────────────────────────────────────────────\n",
       "   1 │ 41_0_27_51533_1  22954279010497  -121.493   45.5487   2007   463.722    ⋯\n",
       "   2 │ 41_0_27_51533_1  22954279010497  -121.493   45.5487   2017  1508.13\n",
       "   3 │ 41_0_27_72243_1  24932528010900  -121.566   45.4899   2004  1630.26\n",
       "   4 │ 41_0_27_72243_1  24932528010900  -121.566   45.4899   2014  2733.56\n",
       "   5 │ 41_0_27_75074_1  12876232010497  -121.692   45.5427   2005    44.9619   ⋯\n",
       "   6 │ 41_0_27_75074_1  12876232010497  -121.692   45.5427   2015   446.564\n",
       "   7 │ 41_0_47_52145_1  29881249010497  -122.483   44.8223   2009  2110.81\n",
       "   8 │ 41_0_47_52145_1  29881249010497  -122.483   44.8223   2019  4308.39\n",
       "  ⋮  │        ⋮               ⋮            ⋮         ⋮        ⋮        ⋮       ⋱\n",
       " 914 │ 41_3_65_97189_1  24115895010900  -121.57    45.0116   2012  1637.41     ⋯\n",
       " 915 │ 41_3_65_97674_1  12795490010497  -121.465   45.0413   2005  1127.87\n",
       " 916 │ 41_3_65_97674_1  12795490010497  -121.465   45.0413   2015  1578.15\n",
       " 917 │ 41_3_65_98082_1  25088840010900  -121.636   44.953    2004  2170.76\n",
       " 918 │ 41_3_65_98082_1  25088840010900  -121.636   44.953    2014  4228.93     ⋯\n",
       " 919 │ 41_3_69_92369_1  29882327010497  -120.114   44.8686   2009  1208.23\n",
       " 920 │ 41_3_69_92369_1  29882327010497  -120.114   44.8686   2019  1818.05\n",
       "\u001b[36m                                                   1 column and 905 rows omitted\u001b[0m"
      ]
     },
     "metadata": {},
     "output_type": "display_data"
    }
   ],
   "source": [
    "dat_or_tree_wide = @chain dat_or_tree_less begin\n",
    "    @filter(!ismissing(VOLCFNET) & !ismissing(TPA_UNADJ))\n",
    "    @group_by(STATECD, UNITCD, COUNTYCD, PLOT, CONDID, MATCH_CN, INVYR, LON, LAT)\n",
    "    @summarize(VOLCFNET = sum(VOLCFNET * TPA_UNADJ))\n",
    "    @ungroup\n",
    "    @group_by(STATECD, UNITCD, COUNTYCD, PLOT, CONDID)\n",
    "    @filter(n() == 2)\n",
    "    @mutate(PLOT_UID = string(STATECD, \"_\", UNITCD, \"_\", COUNTYCD, \"_\", PLOT, \"_\", CONDID))\n",
    "    @ungroup\n",
    "    @select(PLOT_UID, MATCH_CN, LON, LAT, INVYR, VOLCFNET)\n",
    "    @arrange(PLOT_UID, MATCH_CN, INVYR)\n",
    "    @group_by(PLOT_UID)\n",
    "    @mutate(WHICH = row_number())\n",
    "    @mutate(WHICH = if_else(WHICH == 1, \"First\", \"Second\"))\n",
    "    @ungroup\n",
    "end"
   ]
  },
  {
   "cell_type": "markdown",
   "metadata": {},
   "source": [
    "Things get silly in the following section: pivot_wider in Tidier doesn't appear to support pivoting multiple columns."
   ]
  },
  {
   "cell_type": "code",
   "execution_count": 9,
   "metadata": {},
   "outputs": [
    {
     "data": {
      "text/html": [
       "<div><div style = \"float: left;\"><span>460×9 DataFrame</span></div><div style = \"float: right;\"><span style = \"font-style: italic;\">450 rows omitted</span></div><div style = \"clear: both;\"></div></div><div class = \"data-frame\" style = \"overflow-x: scroll;\"><table class = \"data-frame\" style = \"margin-bottom: 6px;\"><thead><tr class = \"header\"><th class = \"rowNumber\" style = \"font-weight: bold; text-align: right;\">Row</th><th style = \"text-align: left;\">PLOT_UID</th><th style = \"text-align: left;\">LON</th><th style = \"text-align: left;\">LAT</th><th style = \"text-align: left;\">Year_First</th><th style = \"text-align: left;\">Year_Second</th><th style = \"text-align: left;\">Volume_First</th><th style = \"text-align: left;\">Volume_Second</th><th style = \"text-align: left;\">Year_Difference</th><th style = \"text-align: left;\">Volume_Difference</th></tr><tr class = \"subheader headerLastRow\"><th class = \"rowNumber\" style = \"font-weight: bold; text-align: right;\"></th><th title = \"String\" style = \"text-align: left;\">String</th><th title = \"Union{Missing, Float64}\" style = \"text-align: left;\">Float64?</th><th title = \"Union{Missing, Float64}\" style = \"text-align: left;\">Float64?</th><th title = \"Union{Missing, Int64}\" style = \"text-align: left;\">Int64?</th><th title = \"Union{Missing, Int64}\" style = \"text-align: left;\">Int64?</th><th title = \"Union{Missing, Float64}\" style = \"text-align: left;\">Float64?</th><th title = \"Union{Missing, Float64}\" style = \"text-align: left;\">Float64?</th><th title = \"Int64\" style = \"text-align: left;\">Int64</th><th title = \"Float64\" style = \"text-align: left;\">Float64</th></tr></thead><tbody><tr><td class = \"rowNumber\" style = \"font-weight: bold; text-align: right;\">1</td><td style = \"text-align: left;\">41_0_27_51533_1</td><td style = \"text-align: right;\">-121.493</td><td style = \"text-align: right;\">45.5487</td><td style = \"text-align: right;\">2007</td><td style = \"text-align: right;\">2017</td><td style = \"text-align: right;\">463.722</td><td style = \"text-align: right;\">1508.13</td><td style = \"text-align: right;\">10</td><td style = \"text-align: right;\">1044.41</td></tr><tr><td class = \"rowNumber\" style = \"font-weight: bold; text-align: right;\">2</td><td style = \"text-align: left;\">41_0_27_72243_1</td><td style = \"text-align: right;\">-121.566</td><td style = \"text-align: right;\">45.4899</td><td style = \"text-align: right;\">2004</td><td style = \"text-align: right;\">2014</td><td style = \"text-align: right;\">1630.26</td><td style = \"text-align: right;\">2733.56</td><td style = \"text-align: right;\">10</td><td style = \"text-align: right;\">1103.3</td></tr><tr><td class = \"rowNumber\" style = \"font-weight: bold; text-align: right;\">3</td><td style = \"text-align: left;\">41_0_27_75074_1</td><td style = \"text-align: right;\">-121.692</td><td style = \"text-align: right;\">45.5427</td><td style = \"text-align: right;\">2005</td><td style = \"text-align: right;\">2015</td><td style = \"text-align: right;\">44.9619</td><td style = \"text-align: right;\">446.564</td><td style = \"text-align: right;\">10</td><td style = \"text-align: right;\">401.602</td></tr><tr><td class = \"rowNumber\" style = \"font-weight: bold; text-align: right;\">4</td><td style = \"text-align: left;\">41_0_47_52145_1</td><td style = \"text-align: right;\">-122.483</td><td style = \"text-align: right;\">44.8223</td><td style = \"text-align: right;\">2009</td><td style = \"text-align: right;\">2019</td><td style = \"text-align: right;\">2110.81</td><td style = \"text-align: right;\">4308.39</td><td style = \"text-align: right;\">10</td><td style = \"text-align: right;\">2197.58</td></tr><tr><td class = \"rowNumber\" style = \"font-weight: bold; text-align: right;\">5</td><td style = \"text-align: left;\">41_0_47_59472_1</td><td style = \"text-align: right;\">-122.615</td><td style = \"text-align: right;\">44.9544</td><td style = \"text-align: right;\">2001</td><td style = \"text-align: right;\">2011</td><td style = \"text-align: right;\">8512.12</td><td style = \"text-align: right;\">213.922</td><td style = \"text-align: right;\">10</td><td style = \"text-align: right;\">-8298.2</td></tr><tr><td style = \"text-align: right;\">&vellip;</td><td style = \"text-align: right;\">&vellip;</td><td style = \"text-align: right;\">&vellip;</td><td style = \"text-align: right;\">&vellip;</td><td style = \"text-align: right;\">&vellip;</td><td style = \"text-align: right;\">&vellip;</td><td style = \"text-align: right;\">&vellip;</td><td style = \"text-align: right;\">&vellip;</td><td style = \"text-align: right;\">&vellip;</td><td style = \"text-align: right;\">&vellip;</td></tr><tr><td class = \"rowNumber\" style = \"font-weight: bold; text-align: right;\">456</td><td style = \"text-align: left;\">41_3_65_89169_1</td><td style = \"text-align: right;\">-121.643</td><td style = \"text-align: right;\">45.104</td><td style = \"text-align: right;\">2006</td><td style = \"text-align: right;\">2016</td><td style = \"text-align: right;\">2296.78</td><td style = \"text-align: right;\">2481.73</td><td style = \"text-align: right;\">10</td><td style = \"text-align: right;\">184.952</td></tr><tr><td class = \"rowNumber\" style = \"font-weight: bold; text-align: right;\">457</td><td style = \"text-align: left;\">41_3_65_97189_1</td><td style = \"text-align: right;\">-121.57</td><td style = \"text-align: right;\">45.0116</td><td style = \"text-align: right;\">2002</td><td style = \"text-align: right;\">2012</td><td style = \"text-align: right;\">3206.03</td><td style = \"text-align: right;\">1637.41</td><td style = \"text-align: right;\">10</td><td style = \"text-align: right;\">-1568.62</td></tr><tr><td class = \"rowNumber\" style = \"font-weight: bold; text-align: right;\">458</td><td style = \"text-align: left;\">41_3_65_97674_1</td><td style = \"text-align: right;\">-121.465</td><td style = \"text-align: right;\">45.0413</td><td style = \"text-align: right;\">2005</td><td style = \"text-align: right;\">2015</td><td style = \"text-align: right;\">1127.87</td><td style = \"text-align: right;\">1578.15</td><td style = \"text-align: right;\">10</td><td style = \"text-align: right;\">450.289</td></tr><tr><td class = \"rowNumber\" style = \"font-weight: bold; text-align: right;\">459</td><td style = \"text-align: left;\">41_3_65_98082_1</td><td style = \"text-align: right;\">-121.636</td><td style = \"text-align: right;\">44.953</td><td style = \"text-align: right;\">2004</td><td style = \"text-align: right;\">2014</td><td style = \"text-align: right;\">2170.76</td><td style = \"text-align: right;\">4228.93</td><td style = \"text-align: right;\">10</td><td style = \"text-align: right;\">2058.17</td></tr><tr><td class = \"rowNumber\" style = \"font-weight: bold; text-align: right;\">460</td><td style = \"text-align: left;\">41_3_69_92369_1</td><td style = \"text-align: right;\">-120.114</td><td style = \"text-align: right;\">44.8686</td><td style = \"text-align: right;\">2009</td><td style = \"text-align: right;\">2019</td><td style = \"text-align: right;\">1208.23</td><td style = \"text-align: right;\">1818.05</td><td style = \"text-align: right;\">10</td><td style = \"text-align: right;\">609.82</td></tr></tbody></table></div>"
      ],
      "text/latex": [
       "\\begin{tabular}{r|cccccccc}\n",
       "\t& PLOT\\_UID & LON & LAT & Year\\_First & Year\\_Second & Volume\\_First & Volume\\_Second & \\\\\n",
       "\t\\hline\n",
       "\t& String & Float64? & Float64? & Int64? & Int64? & Float64? & Float64? & \\\\\n",
       "\t\\hline\n",
       "\t1 & 41\\_0\\_27\\_51533\\_1 & -121.493 & 45.5487 & 2007 & 2017 & 463.722 & 1508.13 & $\\dots$ \\\\\n",
       "\t2 & 41\\_0\\_27\\_72243\\_1 & -121.566 & 45.4899 & 2004 & 2014 & 1630.26 & 2733.56 & $\\dots$ \\\\\n",
       "\t3 & 41\\_0\\_27\\_75074\\_1 & -121.692 & 45.5427 & 2005 & 2015 & 44.9619 & 446.564 & $\\dots$ \\\\\n",
       "\t4 & 41\\_0\\_47\\_52145\\_1 & -122.483 & 44.8223 & 2009 & 2019 & 2110.81 & 4308.39 & $\\dots$ \\\\\n",
       "\t5 & 41\\_0\\_47\\_59472\\_1 & -122.615 & 44.9544 & 2001 & 2011 & 8512.12 & 213.922 & $\\dots$ \\\\\n",
       "\t6 & 41\\_0\\_47\\_61424\\_1 & -122.584 & 44.9879 & 2007 & 2017 & 853.323 & 2912.5 & $\\dots$ \\\\\n",
       "\t7 & 41\\_0\\_47\\_72746\\_1 & -122.656 & 44.9811 & 2005 & 2015 & 966.631 & 2980.41 & $\\dots$ \\\\\n",
       "\t8 & 41\\_0\\_47\\_74182\\_1 & -122.543 & 44.8091 & 2007 & 2017 & 5776.93 & 6452.38 & $\\dots$ \\\\\n",
       "\t9 & 41\\_0\\_47\\_76318\\_1 & -122.409 & 44.7608 & 2002 & 2012 & 5941.35 & 6385.56 & $\\dots$ \\\\\n",
       "\t10 & 41\\_0\\_47\\_81093\\_1 & -122.608 & 44.81 & 2005 & 2015 & 5301.1 & 7205.79 & $\\dots$ \\\\\n",
       "\t11 & 41\\_0\\_47\\_81249\\_1 & -123.033 & 45.0614 & 2009 & 2019 & 7330.71 & 9129.09 & $\\dots$ \\\\\n",
       "\t12 & 41\\_0\\_47\\_81424\\_1 & -122.532 & 44.7896 & 2003 & 2013 & 332.698 & 2370.09 & $\\dots$ \\\\\n",
       "\t13 & 41\\_0\\_47\\_98886\\_1 & -122.484 & 44.7651 & 2004 & 2014 & 1658.88 & 20.7381 & $\\dots$ \\\\\n",
       "\t14 & 41\\_0\\_53\\_51787\\_1 & -123.513 & 44.8613 & 2005 & 2015 & 153.776 & 1463.17 & $\\dots$ \\\\\n",
       "\t15 & 41\\_0\\_53\\_52394\\_1 & -123.512 & 44.9102 & 2009 & 2019 & 2044.44 & 4634.5 & $\\dots$ \\\\\n",
       "\t16 & 41\\_0\\_53\\_57011\\_2 & -123.586 & 45.0131 & 2003 & 2013 & 3557.66 & 1761.63 & $\\dots$ \\\\\n",
       "\t17 & 41\\_0\\_53\\_60966\\_2 & -123.721 & 44.8103 & 2008 & 2018 & 35.7 & 747.153 & $\\dots$ \\\\\n",
       "\t18 & 41\\_0\\_53\\_65612\\_1 & -123.629 & 44.9358 & 2006 & 2016 & 6697.98 & 6321.3 & $\\dots$ \\\\\n",
       "\t19 & 41\\_0\\_53\\_66333\\_1 & -123.437 & 44.758 & 2001 & 2011 & 5.73333 & 683.006 & $\\dots$ \\\\\n",
       "\t20 & 41\\_0\\_53\\_68915\\_1 & -123.687 & 44.8546 & 2009 & 2019 & 394.781 & 1489.59 & $\\dots$ \\\\\n",
       "\t21 & 41\\_0\\_53\\_70267\\_1 & -123.577 & 44.9061 & 2007 & 2017 & 44.615 & 22.1204 & $\\dots$ \\\\\n",
       "\t22 & 41\\_0\\_53\\_72249\\_1 & -123.171 & 45.0106 & 2006 & 2016 & 3586.43 & 3832.21 & $\\dots$ \\\\\n",
       "\t23 & 41\\_0\\_53\\_76444\\_1 & -123.515 & 44.9524 & 2004 & 2014 & 7070.28 & 200.153 & $\\dots$ \\\\\n",
       "\t24 & 41\\_0\\_53\\_78535\\_1 & -123.724 & 45.0061 & 2009 & 2019 & 3265.06 & 4617.54 & $\\dots$ \\\\\n",
       "\t$\\dots$ & $\\dots$ & $\\dots$ & $\\dots$ & $\\dots$ & $\\dots$ & $\\dots$ & $\\dots$ &  \\\\\n",
       "\\end{tabular}\n"
      ],
      "text/plain": [
       "\u001b[1m460×9 DataFrame\u001b[0m\n",
       "\u001b[1m Row \u001b[0m│\u001b[1m PLOT_UID        \u001b[0m\u001b[1m LON      \u001b[0m\u001b[1m LAT      \u001b[0m\u001b[1m Year_First \u001b[0m\u001b[1m Year_Second \u001b[0m\u001b[1m Volume_Fi\u001b[0m ⋯\n",
       "     │\u001b[90m String          \u001b[0m\u001b[90m Float64? \u001b[0m\u001b[90m Float64? \u001b[0m\u001b[90m Int64?     \u001b[0m\u001b[90m Int64?      \u001b[0m\u001b[90m Float64? \u001b[0m ⋯\n",
       "─────┼──────────────────────────────────────────────────────────────────────────\n",
       "   1 │ 41_0_27_51533_1  -121.493   45.5487        2007         2017      463.7 ⋯\n",
       "   2 │ 41_0_27_72243_1  -121.566   45.4899        2004         2014     1630.2\n",
       "   3 │ 41_0_27_75074_1  -121.692   45.5427        2005         2015       44.9\n",
       "   4 │ 41_0_47_52145_1  -122.483   44.8223        2009         2019     2110.8\n",
       "   5 │ 41_0_47_59472_1  -122.615   44.9544        2001         2011     8512.1 ⋯\n",
       "   6 │ 41_0_47_61424_1  -122.584   44.9879        2007         2017      853.3\n",
       "   7 │ 41_0_47_72746_1  -122.656   44.9811        2005         2015      966.6\n",
       "   8 │ 41_0_47_74182_1  -122.543   44.8091        2007         2017     5776.9\n",
       "  ⋮  │        ⋮            ⋮         ⋮          ⋮            ⋮            ⋮    ⋱\n",
       " 454 │ 41_3_65_79489_1  -121.73    45.0209        2007         2017     3384.8 ⋯\n",
       " 455 │ 41_3_65_85328_1  -121.545   44.8275        2002         2012      358.7\n",
       " 456 │ 41_3_65_89169_1  -121.643   45.104         2006         2016     2296.7\n",
       " 457 │ 41_3_65_97189_1  -121.57    45.0116        2002         2012     3206.0\n",
       " 458 │ 41_3_65_97674_1  -121.465   45.0413        2005         2015     1127.8 ⋯\n",
       " 459 │ 41_3_65_98082_1  -121.636   44.953         2004         2014     2170.7\n",
       " 460 │ 41_3_69_92369_1  -120.114   44.8686        2009         2019     1208.2\n",
       "\u001b[36m                                                  4 columns and 445 rows omitted\u001b[0m"
      ]
     },
     "metadata": {},
     "output_type": "display_data"
    }
   ],
   "source": [
    "dat_or_tree_wide_left = @chain dat_or_tree_wide begin\n",
    "    @select(-VOLCFNET)\n",
    "    @pivot_wider(names_from = WHICH, values_from = INVYR)\n",
    "    @rename(Year_First = First, Year_Second = Second)\n",
    "end\n",
    "\n",
    "dat_or_tree_wide_right = @chain dat_or_tree_wide begin\n",
    "    @select(-INVYR)\n",
    "    @pivot_wider(names_from = WHICH, values_from = VOLCFNET)\n",
    "    @rename(Volume_First = First, Volume_Second = Second)\n",
    "end\n",
    "\n",
    "dat_or_tree_wider = @left_join(dat_or_tree_wide_left, dat_or_tree_wide_right)\n",
    "\n",
    "dat_or_differences = @chain dat_or_tree_wider begin\n",
    "    @select(-MATCH_CN)\n",
    "    @mutate(Year_Difference = Year_Second - Year_First,\n",
    "            Volume_Difference = Volume_Second - Volume_First)\n",
    "end\n",
    "\n",
    "write_csv(dat_or_differences, \"output/dat_or_differences.csv\")\n",
    "\n",
    "dat_or_differences"
   ]
  },
  {
   "cell_type": "markdown",
   "metadata": {},
   "source": [
    "## Visualization?"
   ]
  }
 ],
 "metadata": {
  "kernelspec": {
   "display_name": "Julia 1.11.2",
   "language": "julia",
   "name": "julia-1.11"
  },
  "language_info": {
   "file_extension": ".jl",
   "mimetype": "application/julia",
   "name": "julia",
   "version": "1.11.2"
  }
 },
 "nbformat": 4,
 "nbformat_minor": 2
}
